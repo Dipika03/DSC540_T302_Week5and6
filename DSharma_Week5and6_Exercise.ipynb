{
 "cells": [
  {
   "cell_type": "code",
   "execution_count": 1,
   "id": "1056337c-d226-43f0-bcc8-f092b08925e2",
   "metadata": {},
   "outputs": [],
   "source": [
    "# Name Dipika Sharma\n",
    "# DSC 540 T302 Data Preparation\n",
    "# Week 5 and 6"
   ]
  },
  {
   "cell_type": "markdown",
   "id": "df8dbcd3-7957-4da8-a925-136ed794eaa2",
   "metadata": {},
   "source": [
    "# Week 5 and 6 Exercises"
   ]
  },
  {
   "cell_type": "markdown",
   "id": "1a6cb006-404d-4079-9784-fe8ad0298a40",
   "metadata": {},
   "source": [
    "# Activity 7"
   ]
  },
  {
   "cell_type": "markdown",
   "id": "39dc760c-b436-4828-b082-7b9845424f71",
   "metadata": {},
   "source": [
    "Reading Tabular Data from a Web Page and Creating DataFrames\n",
    "In this activity, you have been given a Wikipedia page where you have the GDP of all countries listed. You have been asked to create three DataFrames from the three sources mentioned in the page (https://en.wikipedia.org/wiki/List_of_countries_by_GDP_(nominal)):\n"
   ]
  },
  {
   "cell_type": "code",
   "execution_count": 2,
   "id": "6e204afe-af94-4290-94bf-3e5cfef91ac2",
   "metadata": {
    "tags": []
   },
   "outputs": [],
   "source": [
    "from bs4 import BeautifulSoup\n",
    "import pandas as pd"
   ]
  },
  {
   "cell_type": "markdown",
   "id": "1456fc63-357d-4b2d-b244-0a39bcd6e913",
   "metadata": {},
   "source": [
    "1. Open the page in a separate Chrome/Firefox tab and use something like an Inspect Element tool to view the source HTML and understand its structure"
   ]
  },
  {
   "cell_type": "markdown",
   "id": "6b78f4dc-2b23-4107-a585-9f7d57162602",
   "metadata": {},
   "source": [
    "2. Read the page using bs4"
   ]
  },
  {
   "cell_type": "code",
   "execution_count": 3,
   "id": "11f7c65e-dad5-4411-b4d4-6abd72842d9e",
   "metadata": {},
   "outputs": [],
   "source": [
    "# Download the following HTML file, save it and then use bs4 to read it from the disk\n",
    "fd = open(\"List of countries by GDP (nominal) - Wikipedia.htm\", \"r\")\n",
    "soup = BeautifulSoup(fd)\n",
    "fd.close()\n",
    "# print(soup.prettify())"
   ]
  },
  {
   "cell_type": "markdown",
   "id": "4df9d713-c91a-4259-97f3-57dfb80cf24b",
   "metadata": {},
   "source": [
    "3. Find the table structure you will need to deal with (how many tables there are?)"
   ]
  },
  {
   "cell_type": "code",
   "execution_count": 4,
   "id": "11e41d9a-b42c-4583-8bba-f7367f30c5ff",
   "metadata": {},
   "outputs": [
    {
     "name": "stdout",
     "output_type": "stream",
     "text": [
      "There are 9 tables in a source\n"
     ]
    }
   ],
   "source": [
    "# findall method to extract the content\n",
    "\n",
    "Tables_ = soup.find_all(\"table\")\n",
    "print(\"There are {} tables in a source\".format(len(Tables_)))"
   ]
  },
  {
   "cell_type": "markdown",
   "id": "2a90d0d3-c5ab-4617-a552-4b506221de59",
   "metadata": {},
   "source": [
    "4. Find the right table using bs4"
   ]
  },
  {
   "cell_type": "code",
   "execution_count": 5,
   "id": "313fdfaf-36b2-4a97-9963-569cbc532594",
   "metadata": {},
   "outputs": [
    {
     "name": "stdout",
     "output_type": "stream",
     "text": [
      "<class 'bs4.element.Tag'>\n"
     ]
    }
   ],
   "source": [
    "# going to the website, right click, choose inspect. You can find the class of the table which we can use to find the correct table.\n",
    "\n",
    "tbl = soup.find(\"table\", {\"class\": '\"wikitable\"|}'})\n",
    "print(type(tbl))"
   ]
  },
  {
   "cell_type": "markdown",
   "id": "36d79307-bc88-41ec-904c-5cd6e290b672",
   "metadata": {},
   "source": [
    "5. Separate the source names and their corresponding data"
   ]
  },
  {
   "cell_type": "code",
   "execution_count": 7,
   "id": "34be0008-9564-40a0-bf71-e5b19187ea3b",
   "metadata": {},
   "outputs": [
    {
     "name": "stdout",
     "output_type": "stream",
     "text": [
      "3\n"
     ]
    }
   ],
   "source": [
    "# Extract all rows of the table body from the html page\n",
    "\n",
    "Source = tbl.tbody.findAll('tr', recursive=False)[0]\n",
    "Source_columns = [td for td in Source.findAll('td')]\n",
    "print(len(Source_columns))"
   ]
  },
  {
   "cell_type": "code",
   "execution_count": 8,
   "id": "d9a1b46f-f40e-4159-9b97-de514fbcf460",
   "metadata": {},
   "outputs": [],
   "source": [
    "# using findall to extract data from HTML page\n",
    "data = tbl.tbody.findAll('tr', recursive=False)[1].findAll('td', recursive=False)"
   ]
  },
  {
   "cell_type": "code",
   "execution_count": 9,
   "id": "b1fe600e-058b-41c9-a5a3-6f0a1265149c",
   "metadata": {},
   "outputs": [],
   "source": [
    "# creating empty list data_tables\n",
    "\n",
    "data_tables = []\n",
    "for td in data:\n",
    "    data_tables.append(td.findAll('table'))"
   ]
  },
  {
   "cell_type": "code",
   "execution_count": 11,
   "id": "e35082a1-7d99-4062-834a-b6b37c42229c",
   "metadata": {},
   "outputs": [
    {
     "data": {
      "text/plain": [
       "3"
      ]
     },
     "execution_count": 11,
     "metadata": {},
     "output_type": "execute_result"
    }
   ],
   "source": [
    "len(data_tables)"
   ]
  },
  {
   "cell_type": "markdown",
   "id": "d8ab80a1-61ea-423b-a9fc-ea54a2f23cf1",
   "metadata": {},
   "source": [
    "6. Get the source names from the list of sources you have created"
   ]
  },
  {
   "cell_type": "code",
   "execution_count": 14,
   "id": "9bb0ed4c-5195-4dda-9362-3dbd512d0015",
   "metadata": {},
   "outputs": [
    {
     "name": "stdout",
     "output_type": "stream",
     "text": [
      "['International Monetary Fund', 'World Bank', 'United Nations']\n"
     ]
    }
   ],
   "source": [
    "# Getting source name from list Source_columns\n",
    "\n",
    "source_name = [source.findAll('a')[0].getText() for source in Source_columns]\n",
    "print(source_name)"
   ]
  },
  {
   "cell_type": "markdown",
   "id": "3628a5fa-00cb-4b4b-9c5f-ba78acc7e7f2",
   "metadata": {},
   "source": [
    "7. Separate the header and data from the data that you separated before for the first source only, and then create a DataFrame using that"
   ]
  },
  {
   "cell_type": "code",
   "execution_count": 15,
   "id": "544ec158-a4ed-46ab-b406-0747bb3eb713",
   "metadata": {},
   "outputs": [
    {
     "data": {
      "text/plain": [
       "['Rank', 'Country', 'GDP(US$MM)']"
      ]
     },
     "execution_count": 15,
     "metadata": {},
     "output_type": "execute_result"
    }
   ],
   "source": [
    "# Getting header for the first source usig the findall\n",
    "\n",
    "Header_1 = [th.getText().strip() for th in data_tables[0][0].findAll('thead')[0].findAll('th')]\n",
    "Header_1"
   ]
  },
  {
   "cell_type": "code",
   "execution_count": 16,
   "id": "66a5b026-677b-48d9-b1c3-8e9d8d365c31",
   "metadata": {},
   "outputs": [],
   "source": [
    "# Extracting data from data_tables list that we created before.\n",
    "\n",
    "Data_1 = data_tables[0][0].findAll('tbody')[0].findAll('tr')[1:]"
   ]
  },
  {
   "cell_type": "code",
   "execution_count": 17,
   "id": "495d1c84-d5b0-45d5-89dd-81babbf55307",
   "metadata": {},
   "outputs": [],
   "source": [
    "# Getting the rows text from first source data.\n",
    "\n",
    "Data_rows_1 = [[td.get_text().strip() for td in tr.findAll('td')] for tr in Data_1]"
   ]
  },
  {
   "cell_type": "code",
   "execution_count": 19,
   "id": "247078a8-6559-4dbc-963f-73f2752aa01d",
   "metadata": {},
   "outputs": [],
   "source": [
    "# creating dataframe using rows and headers extract from source first.\n",
    "\n",
    "source_df_1 = pd.DataFrame(Data_rows_1, columns=Header_1)"
   ]
  },
  {
   "cell_type": "code",
   "execution_count": 20,
   "id": "ea05eece-e1dc-420e-86ac-5829d3d74cc8",
   "metadata": {},
   "outputs": [
    {
     "data": {
      "text/html": [
       "<div>\n",
       "<style scoped>\n",
       "    .dataframe tbody tr th:only-of-type {\n",
       "        vertical-align: middle;\n",
       "    }\n",
       "\n",
       "    .dataframe tbody tr th {\n",
       "        vertical-align: top;\n",
       "    }\n",
       "\n",
       "    .dataframe thead th {\n",
       "        text-align: right;\n",
       "    }\n",
       "</style>\n",
       "<table border=\"1\" class=\"dataframe\">\n",
       "  <thead>\n",
       "    <tr style=\"text-align: right;\">\n",
       "      <th></th>\n",
       "      <th>Rank</th>\n",
       "      <th>Country</th>\n",
       "      <th>GDP(US$MM)</th>\n",
       "    </tr>\n",
       "  </thead>\n",
       "  <tbody>\n",
       "    <tr>\n",
       "      <th>0</th>\n",
       "      <td>1</td>\n",
       "      <td>United States</td>\n",
       "      <td>19,390,600</td>\n",
       "    </tr>\n",
       "    <tr>\n",
       "      <th>1</th>\n",
       "      <td>2</td>\n",
       "      <td>China[n 1]</td>\n",
       "      <td>12,014,610</td>\n",
       "    </tr>\n",
       "    <tr>\n",
       "      <th>2</th>\n",
       "      <td>3</td>\n",
       "      <td>Japan</td>\n",
       "      <td>4,872,135</td>\n",
       "    </tr>\n",
       "    <tr>\n",
       "      <th>3</th>\n",
       "      <td>4</td>\n",
       "      <td>Germany</td>\n",
       "      <td>3,684,816</td>\n",
       "    </tr>\n",
       "    <tr>\n",
       "      <th>4</th>\n",
       "      <td>5</td>\n",
       "      <td>United Kingdom</td>\n",
       "      <td>2,624,529</td>\n",
       "    </tr>\n",
       "  </tbody>\n",
       "</table>\n",
       "</div>"
      ],
      "text/plain": [
       "  Rank         Country  GDP(US$MM)\n",
       "0    1   United States  19,390,600\n",
       "1    2      China[n 1]  12,014,610\n",
       "2    3           Japan   4,872,135\n",
       "3    4         Germany   3,684,816\n",
       "4    5  United Kingdom   2,624,529"
      ]
     },
     "execution_count": 20,
     "metadata": {},
     "output_type": "execute_result"
    }
   ],
   "source": [
    "source_df_1.head()"
   ]
  },
  {
   "cell_type": "markdown",
   "id": "34cfb486-5bcc-48dd-8845-62b1a563e6e8",
   "metadata": {},
   "source": [
    "8. Repeat the last task for the other two data sources"
   ]
  },
  {
   "cell_type": "code",
   "execution_count": 21,
   "id": "af8e852b-90ee-4feb-a570-bbabd083df1b",
   "metadata": {},
   "outputs": [
    {
     "data": {
      "text/plain": [
       "['Rank', 'Country', 'GDP(US$MM)']"
      ]
     },
     "execution_count": 21,
     "metadata": {},
     "output_type": "execute_result"
    }
   ],
   "source": [
    "# doing the same steps for second source.\n",
    "# Extracting headers name from data tables\n",
    "\n",
    "Header_2 = [th.getText().strip() for th in data_tables[1][0].findAll('thead')[0].findAll('th')]\n",
    "Header_2"
   ]
  },
  {
   "cell_type": "code",
   "execution_count": 24,
   "id": "49af93c5-a9e1-408b-9cfb-e7ba912d0c09",
   "metadata": {},
   "outputs": [],
   "source": [
    "# Extracting data from data_tables list that we created before.\n",
    "\n",
    "Data_2 = data_tables[1][0].findAll('tbody')[0].findAll('tr')[1:]"
   ]
  },
  {
   "cell_type": "code",
   "execution_count": 25,
   "id": "fa3f325c-90a9-4cb5-9c55-b5672d68553d",
   "metadata": {},
   "outputs": [],
   "source": [
    "# Declaring the defintion of fundtion to strip text\n",
    "\n",
    "def find_right_text(i, td):\n",
    "    if i == 0:\n",
    "        return td.getText().strip()\n",
    "    elif i == 1:\n",
    "        return td.getText().strip()\n",
    "    else:\n",
    "        index = td.text.find(\"♠\")\n",
    "        return td.text[index+1:].strip()"
   ]
  },
  {
   "cell_type": "code",
   "execution_count": 31,
   "id": "de07c830-1f83-4d37-bcdd-215cafaeed0b",
   "metadata": {},
   "outputs": [],
   "source": [
    "# Getting the rows text from first source data.\n",
    "\n",
    "Data_rows_2 = [[find_right_text(i, td) for i, td in enumerate(tr.findAll('td'))] for tr in Data_2]"
   ]
  },
  {
   "cell_type": "code",
   "execution_count": 32,
   "id": "137f9a0b-b0ca-4c8b-be6e-4ba4974b9bd2",
   "metadata": {},
   "outputs": [],
   "source": [
    "# creating dataframe using rows and headers extract from source first.\n",
    "\n",
    "source_df_2 = pd.DataFrame(Data_rows_2, columns=Header_2)"
   ]
  },
  {
   "cell_type": "code",
   "execution_count": 33,
   "id": "5bc21d5e-2a46-4155-a988-29bdd9ac2940",
   "metadata": {},
   "outputs": [
    {
     "data": {
      "text/html": [
       "<div>\n",
       "<style scoped>\n",
       "    .dataframe tbody tr th:only-of-type {\n",
       "        vertical-align: middle;\n",
       "    }\n",
       "\n",
       "    .dataframe tbody tr th {\n",
       "        vertical-align: top;\n",
       "    }\n",
       "\n",
       "    .dataframe thead th {\n",
       "        text-align: right;\n",
       "    }\n",
       "</style>\n",
       "<table border=\"1\" class=\"dataframe\">\n",
       "  <thead>\n",
       "    <tr style=\"text-align: right;\">\n",
       "      <th></th>\n",
       "      <th>Rank</th>\n",
       "      <th>Country</th>\n",
       "      <th>GDP(US$MM)</th>\n",
       "    </tr>\n",
       "  </thead>\n",
       "  <tbody>\n",
       "    <tr>\n",
       "      <th>0</th>\n",
       "      <td>1</td>\n",
       "      <td>United States</td>\n",
       "      <td>19,390,604</td>\n",
       "    </tr>\n",
       "    <tr>\n",
       "      <th>1</th>\n",
       "      <td></td>\n",
       "      <td>European Union[23]</td>\n",
       "      <td>17,277,698</td>\n",
       "    </tr>\n",
       "    <tr>\n",
       "      <th>2</th>\n",
       "      <td>2</td>\n",
       "      <td>China[n 4]</td>\n",
       "      <td>12,237,700</td>\n",
       "    </tr>\n",
       "    <tr>\n",
       "      <th>3</th>\n",
       "      <td>3</td>\n",
       "      <td>Japan</td>\n",
       "      <td>4,872,137</td>\n",
       "    </tr>\n",
       "    <tr>\n",
       "      <th>4</th>\n",
       "      <td>4</td>\n",
       "      <td>Germany</td>\n",
       "      <td>3,677,439</td>\n",
       "    </tr>\n",
       "  </tbody>\n",
       "</table>\n",
       "</div>"
      ],
      "text/plain": [
       "  Rank             Country  GDP(US$MM)\n",
       "0    1       United States  19,390,604\n",
       "1       European Union[23]  17,277,698\n",
       "2    2          China[n 4]  12,237,700\n",
       "3    3               Japan   4,872,137\n",
       "4    4             Germany   3,677,439"
      ]
     },
     "execution_count": 33,
     "metadata": {},
     "output_type": "execute_result"
    }
   ],
   "source": [
    "source_df_2.head()"
   ]
  },
  {
   "cell_type": "code",
   "execution_count": 34,
   "id": "4cfef840-45d8-4822-9dd6-b475c65a7b02",
   "metadata": {},
   "outputs": [
    {
     "data": {
      "text/plain": [
       "['Rank', 'Country', 'GDP(US$MM)']"
      ]
     },
     "execution_count": 34,
     "metadata": {},
     "output_type": "execute_result"
    }
   ],
   "source": [
    "# Now we repeat the steps for 3rd data source\n",
    "Header_3 = [th.getText().strip() for th in data_tables[2][0].findAll('thead')[0].findAll('th')]\n",
    "Header_3"
   ]
  },
  {
   "cell_type": "code",
   "execution_count": 35,
   "id": "649379b2-38b4-4d1b-b8a4-290746b6720e",
   "metadata": {},
   "outputs": [],
   "source": [
    "Data_3 = data_tables[2][0].findAll('tbody')[0].findAll('tr')[1:]"
   ]
  },
  {
   "cell_type": "code",
   "execution_count": 36,
   "id": "d8241eb7-990e-49d2-bea6-4dcce1ce71e0",
   "metadata": {},
   "outputs": [],
   "source": [
    "Data_rows_3 = [[find_right_text(i, td) for i, td in enumerate(tr.findAll('td'))] for tr in Data_3]"
   ]
  },
  {
   "cell_type": "code",
   "execution_count": 38,
   "id": "85f6cd48-e8fc-465b-bb1d-d54e26cbb972",
   "metadata": {},
   "outputs": [
    {
     "data": {
      "text/html": [
       "<div>\n",
       "<style scoped>\n",
       "    .dataframe tbody tr th:only-of-type {\n",
       "        vertical-align: middle;\n",
       "    }\n",
       "\n",
       "    .dataframe tbody tr th {\n",
       "        vertical-align: top;\n",
       "    }\n",
       "\n",
       "    .dataframe thead th {\n",
       "        text-align: right;\n",
       "    }\n",
       "</style>\n",
       "<table border=\"1\" class=\"dataframe\">\n",
       "  <thead>\n",
       "    <tr style=\"text-align: right;\">\n",
       "      <th></th>\n",
       "      <th>Rank</th>\n",
       "      <th>Country</th>\n",
       "      <th>GDP(US$MM)</th>\n",
       "    </tr>\n",
       "  </thead>\n",
       "  <tbody>\n",
       "    <tr>\n",
       "      <th>0</th>\n",
       "      <td>1</td>\n",
       "      <td>United States</td>\n",
       "      <td>18,624,475</td>\n",
       "    </tr>\n",
       "    <tr>\n",
       "      <th>1</th>\n",
       "      <td>2</td>\n",
       "      <td>China[n 4]</td>\n",
       "      <td>11,218,281</td>\n",
       "    </tr>\n",
       "    <tr>\n",
       "      <th>2</th>\n",
       "      <td>3</td>\n",
       "      <td>Japan</td>\n",
       "      <td>4,936,211</td>\n",
       "    </tr>\n",
       "    <tr>\n",
       "      <th>3</th>\n",
       "      <td>4</td>\n",
       "      <td>Germany</td>\n",
       "      <td>3,477,796</td>\n",
       "    </tr>\n",
       "    <tr>\n",
       "      <th>4</th>\n",
       "      <td>5</td>\n",
       "      <td>United Kingdom</td>\n",
       "      <td>2,647,898</td>\n",
       "    </tr>\n",
       "  </tbody>\n",
       "</table>\n",
       "</div>"
      ],
      "text/plain": [
       "  Rank         Country  GDP(US$MM)\n",
       "0    1   United States  18,624,475\n",
       "1    2      China[n 4]  11,218,281\n",
       "2    3           Japan   4,936,211\n",
       "3    4         Germany   3,477,796\n",
       "4    5  United Kingdom   2,647,898"
      ]
     },
     "execution_count": 38,
     "metadata": {},
     "output_type": "execute_result"
    }
   ],
   "source": [
    "# Creating the 3rd dataframe.\n",
    "\n",
    "source_df_3 = pd.DataFrame(Data_rows_3, columns=Header_3)\n",
    "source_df_3.head()"
   ]
  },
  {
   "cell_type": "markdown",
   "id": "88d67831-130c-4f06-9e2a-d51085270750",
   "metadata": {},
   "source": [
    "# Activity 8"
   ]
  },
  {
   "cell_type": "markdown",
   "id": "59b5d54a-9460-4459-92b7-05d8e92483d7",
   "metadata": {},
   "source": [
    "Handling Outliers and Missing Data\n",
    "In this activity, we will identify and get rid of outliers. Here, we have a CSV file. The goal here is to clean the data by using the knowledge that we have learned about so far and come up with a nicely formatted DataFrame. Identify the type of outliers and their effect on the data and clean the messy data.\n",
    "\n",
    "The steps that will help you solve this activity are as follows:"
   ]
  },
  {
   "cell_type": "code",
   "execution_count": 39,
   "id": "83564873-1b0d-4bae-b171-5600e8d7721f",
   "metadata": {},
   "outputs": [],
   "source": [
    "import pandas as pd\n",
    "import numpy as np\n",
    "import matplotlib.pyplot as plt\n",
    "\n",
    "%matplotlib inline"
   ]
  },
  {
   "cell_type": "markdown",
   "id": "d91bcdef-bea9-45d5-a969-17c999a54c6f",
   "metadata": {},
   "source": [
    "1. Read the visit_data.csv file."
   ]
  },
  {
   "cell_type": "code",
   "execution_count": 42,
   "id": "0cc94c06-e433-4755-9b69-be24bb591101",
   "metadata": {
    "tags": []
   },
   "outputs": [],
   "source": [
    "# reading the csv file.\n",
    "\n",
    "Visit_df = pd.read_csv(\"visit_data.csv\")"
   ]
  },
  {
   "cell_type": "code",
   "execution_count": 43,
   "id": "3a345928-9f7e-4b58-8d73-48fc355d44f8",
   "metadata": {},
   "outputs": [
    {
     "data": {
      "text/html": [
       "<div>\n",
       "<style scoped>\n",
       "    .dataframe tbody tr th:only-of-type {\n",
       "        vertical-align: middle;\n",
       "    }\n",
       "\n",
       "    .dataframe tbody tr th {\n",
       "        vertical-align: top;\n",
       "    }\n",
       "\n",
       "    .dataframe thead th {\n",
       "        text-align: right;\n",
       "    }\n",
       "</style>\n",
       "<table border=\"1\" class=\"dataframe\">\n",
       "  <thead>\n",
       "    <tr style=\"text-align: right;\">\n",
       "      <th></th>\n",
       "      <th>id</th>\n",
       "      <th>first_name</th>\n",
       "      <th>last_name</th>\n",
       "      <th>email</th>\n",
       "      <th>gender</th>\n",
       "      <th>ip_address</th>\n",
       "      <th>visit</th>\n",
       "    </tr>\n",
       "  </thead>\n",
       "  <tbody>\n",
       "    <tr>\n",
       "      <th>0</th>\n",
       "      <td>1</td>\n",
       "      <td>Sonny</td>\n",
       "      <td>Dahl</td>\n",
       "      <td>sdahl0@mysql.com</td>\n",
       "      <td>Male</td>\n",
       "      <td>135.36.96.183</td>\n",
       "      <td>1225.0</td>\n",
       "    </tr>\n",
       "    <tr>\n",
       "      <th>1</th>\n",
       "      <td>2</td>\n",
       "      <td>NaN</td>\n",
       "      <td>NaN</td>\n",
       "      <td>dhoovart1@hud.gov</td>\n",
       "      <td>NaN</td>\n",
       "      <td>237.165.194.143</td>\n",
       "      <td>919.0</td>\n",
       "    </tr>\n",
       "    <tr>\n",
       "      <th>2</th>\n",
       "      <td>3</td>\n",
       "      <td>Gar</td>\n",
       "      <td>Armal</td>\n",
       "      <td>garmal2@technorati.com</td>\n",
       "      <td>NaN</td>\n",
       "      <td>166.43.137.224</td>\n",
       "      <td>271.0</td>\n",
       "    </tr>\n",
       "    <tr>\n",
       "      <th>3</th>\n",
       "      <td>4</td>\n",
       "      <td>Chiarra</td>\n",
       "      <td>Nulty</td>\n",
       "      <td>cnulty3@newyorker.com</td>\n",
       "      <td>NaN</td>\n",
       "      <td>139.98.137.108</td>\n",
       "      <td>1002.0</td>\n",
       "    </tr>\n",
       "    <tr>\n",
       "      <th>4</th>\n",
       "      <td>5</td>\n",
       "      <td>NaN</td>\n",
       "      <td>NaN</td>\n",
       "      <td>sleaver4@elegantthemes.com</td>\n",
       "      <td>NaN</td>\n",
       "      <td>46.117.117.27</td>\n",
       "      <td>2434.0</td>\n",
       "    </tr>\n",
       "  </tbody>\n",
       "</table>\n",
       "</div>"
      ],
      "text/plain": [
       "   id first_name last_name                       email gender  \\\n",
       "0   1      Sonny      Dahl            sdahl0@mysql.com   Male   \n",
       "1   2        NaN       NaN           dhoovart1@hud.gov    NaN   \n",
       "2   3        Gar     Armal      garmal2@technorati.com    NaN   \n",
       "3   4    Chiarra     Nulty       cnulty3@newyorker.com    NaN   \n",
       "4   5        NaN       NaN  sleaver4@elegantthemes.com    NaN   \n",
       "\n",
       "        ip_address   visit  \n",
       "0    135.36.96.183  1225.0  \n",
       "1  237.165.194.143   919.0  \n",
       "2   166.43.137.224   271.0  \n",
       "3   139.98.137.108  1002.0  \n",
       "4    46.117.117.27  2434.0  "
      ]
     },
     "execution_count": 43,
     "metadata": {},
     "output_type": "execute_result"
    }
   ],
   "source": [
    "# Using head to show the first five rows of the csv file.\n",
    "Visit_df.head()"
   ]
  },
  {
   "cell_type": "markdown",
   "id": "e4619e6e-ebaf-4fd9-ac1f-59a7411dcef2",
   "metadata": {},
   "source": [
    "2. Check for duplicates."
   ]
  },
  {
   "cell_type": "code",
   "execution_count": 48,
   "id": "b635deb8-e235-4da0-8f48-718aeeb044f0",
   "metadata": {},
   "outputs": [
    {
     "name": "stdout",
     "output_type": "stream",
     "text": [
      "Is column ID is duplicated? - False\n",
      "Is column first_name is duplicated? - True\n",
      "Is column last_name is duplicated? - True\n",
      "Is column email is duplicated? - False\n"
     ]
    }
   ],
   "source": [
    "# Lets analyse the data for outliers.\n",
    "# lets pick some columns to check for duplicate, we can use dupilcated function.\n",
    "\n",
    "# Since column ID is seems to be a primary key of the table, so lets check it first for duplicate values.\n",
    "\n",
    "print(\"Is column ID is duplicated? - {}\".format(any(Visit_df.id.duplicated())))\n",
    "\n",
    "# Lets pick few more columns to check for duplicate data\n",
    "\n",
    "print(\"Is column first_name is duplicated? - {}\".format(any(Visit_df.first_name.duplicated())))\n",
    "print(\"Is column last_name is duplicated? - {}\".format(any(Visit_df.last_name.duplicated())))\n",
    "print(\"Is column email is duplicated? - {}\".format(any(Visit_df.email.duplicated())))"
   ]
  },
  {
   "cell_type": "markdown",
   "id": "5b84d500-8fcc-4c66-aeed-c252bf52e839",
   "metadata": {},
   "source": [
    "3. Check if any essential column contains NaN."
   ]
  },
  {
   "cell_type": "code",
   "execution_count": 49,
   "id": "dfafcd0a-d53a-4b0f-be41-e3324151923e",
   "metadata": {},
   "outputs": [
    {
     "name": "stdout",
     "output_type": "stream",
     "text": [
      "Is the column gender contains NaN values? - True \n",
      "Is the column ip_address contains NaN values?- False \n",
      "Is the column visit contains NaN values? - True \n",
      "Is the column email contains NaN values? - False \n"
     ]
    }
   ],
   "source": [
    "# Now lets look for NaN values in csv file.\n",
    "\n",
    "print(\"Is the column gender contains NaN values? - %r \" % Visit_df.gender.isnull().values.any())\n",
    "\n",
    "print(\"Is the column ip_address contains NaN values?- %r \" % Visit_df.ip_address.isnull().values.any())\n",
    "print(\"Is the column visit contains NaN values? - %s \" % Visit_df.visit.isnull().values.any())\n",
    "print(\"Is the column email contains NaN values? - %s \" % Visit_df.email.isnull().values.any())"
   ]
  },
  {
   "cell_type": "markdown",
   "id": "fd913e85-783a-4c61-b3a2-b9bb311f6d9e",
   "metadata": {},
   "source": [
    "The column gender and visit has NaN values but the other columns like ip_address and email do not have NaN values in the dataset.\n",
    "Since the database is all about he visit, so we need to analyse data for visit columns which has NaN values. We can treat them as outliers of the dataset.\n",
    "We can either remove them or can assign mean of visit column value to it."
   ]
  },
  {
   "cell_type": "markdown",
   "id": "b1a26c68-8297-4680-9ac5-5f83b358ada3",
   "metadata": {},
   "source": [
    "4. Get rid of the outliers."
   ]
  },
  {
   "cell_type": "code",
   "execution_count": 50,
   "id": "ec3ad74b-ed2f-4266-8808-e80ee1487dcd",
   "metadata": {},
   "outputs": [],
   "source": [
    "# Lets remove the outliers from the dataset\n",
    "# Lets use the np.isfinite, this function will help us in identify if the variable is not infinity or not Not a Number. In our case it will help s in identify the NaN values.\n",
    "\n",
    "# Lets save the size of the dataset before making any changes.\n",
    "\n",
    "old_df_size = Visit_df.shape\n",
    "Visit_df = Visit_df[np.isfinite(Visit_df['visit'])] \n",
    "new_df_size = Visit_df.shape"
   ]
  },
  {
   "cell_type": "markdown",
   "id": "0e1fcea8-0cb8-408c-a578-34ff1972eb15",
   "metadata": {},
   "source": [
    "5. Report the size difference."
   ]
  },
  {
   "cell_type": "code",
   "execution_count": 53,
   "id": "471560b8-f97c-4b88-b2a3-9f227ade79da",
   "metadata": {
    "tags": []
   },
   "outputs": [
    {
     "name": "stdout",
     "output_type": "stream",
     "text": [
      "Size of the visit dataset before removing the NaN values from column visit is 1000 rows and the size of the dataset after making changes is 974 rows.\n"
     ]
    }
   ],
   "source": [
    "\n",
    "print(\"Size of the visit dataset before removing the NaN values from column visit is {old[0]} rows and the size of the dataset after making changes is {new[0]} rows.\".\n",
    "      format(old=old_df_size, new=new_df_size))\n",
    "# As we can see the old dataset size is 1000 and new dataset size is 974 rows."
   ]
  },
  {
   "cell_type": "markdown",
   "id": "035aa982-fa2a-41a2-aca7-510044815297",
   "metadata": {},
   "source": [
    "6. Create a box plot to check for outliers."
   ]
  },
  {
   "cell_type": "code",
   "execution_count": 55,
   "id": "506189f7-31e3-47ef-ba6a-28968b0ac16b",
   "metadata": {},
   "outputs": [
    {
     "data": {
      "text/plain": [
       "{'whiskers': [<matplotlib.lines.Line2D at 0x7fb4511dfd30>,\n",
       "  <matplotlib.lines.Line2D at 0x7fb4511f8040>],\n",
       " 'caps': [<matplotlib.lines.Line2D at 0x7fb4511f83d0>,\n",
       "  <matplotlib.lines.Line2D at 0x7fb4511f8760>],\n",
       " 'boxes': [<matplotlib.lines.Line2D at 0x7fb4511df8e0>],\n",
       " 'medians': [<matplotlib.lines.Line2D at 0x7fb4511f8af0>],\n",
       " 'fliers': [<matplotlib.lines.Line2D at 0x7fb4511f8e80>],\n",
       " 'means': []}"
      ]
     },
     "execution_count": 55,
     "metadata": {},
     "output_type": "execute_result"
    },
    {
     "data": {
      "image/png": "[encoded data removed]",
      "text/plain": [
       "<Figure size 432x288 with 1 Axes>"
      ]
     },
     "metadata": {
      "needs_background": "light"
     },
     "output_type": "display_data"
    }
   ],
   "source": [
    "plt.boxplot(Visit_df.visit, notch=True)"
   ]
  },
  {
   "cell_type": "markdown",
   "id": "cb3bf8fc-47fb-4fac-bf3e-dc07c6b4cba0",
   "metadata": {},
   "source": [
    "We can clearly see from above boxplot that the during interval 0 to 3000 the main concentration of the data is found in between 750 to 2250. i think it would be save to say that anything below 200 and above 2800 will be outliers for us. And we can remove it from dataset.\n"
   ]
  },
  {
   "cell_type": "code",
   "execution_count": 56,
   "id": "3bf0b9bc-e328-47ba-a85e-d50ae352a17d",
   "metadata": {},
   "outputs": [],
   "source": [
    "# Creating new dataframe by removing the outliers from existing dataset.\n",
    "\n",
    "Visit_df_new = Visit_df[(Visit_df['visit'] <= 2800) & (Visit_df['visit'] >= 200)] "
   ]
  },
  {
   "cell_type": "code",
   "execution_count": 57,
   "id": "1f52d8b9-4dfa-4c50-b46f-0458e582571b",
   "metadata": {
    "tags": []
   },
   "outputs": [
    {
     "name": "stdout",
     "output_type": "stream",
     "text": [
      "The size of the dataset after removing outliers - 864\n"
     ]
    }
   ],
   "source": [
    "# Lets see what the current size of the dataset after removing ouliers from data.\n",
    "\n",
    "print(\"The size of the dataset after removing outliers - {}\".format(*Visit_df_new.shape))"
   ]
  },
  {
   "cell_type": "markdown",
   "id": "8fc15ae4-d30b-4e42-b55e-7d43b13eb79f",
   "metadata": {},
   "source": [
    "# Exercise 3"
   ]
  },
  {
   "cell_type": "markdown",
   "id": "eb683e79-b495-4991-9e58-794c140d8340",
   "metadata": {},
   "source": [
    "Insert data into a SQL Lite database – create a table with the following data (Hint: Python for Data Analysis page 191):\n"
   ]
  },
  {
   "cell_type": "markdown",
   "id": "c9440c6a-f185-4a1f-b2b5-b70fd638d418",
   "metadata": {},
   "source": [
    "a. Name, Address, City, State, Zip, Phone Number\n"
   ]
  },
  {
   "cell_type": "markdown",
   "id": "bf4a559e-7143-4492-8175-a895514d6787",
   "metadata": {},
   "source": [
    "b. Add at least 10 rows of data and submit your code with a query generating your results."
   ]
  },
  {
   "cell_type": "code",
   "execution_count": 60,
   "id": "351ab18a-86b9-48f8-bf58-2db580495bb3",
   "metadata": {},
   "outputs": [],
   "source": [
    "import sqlite3\n",
    "\n",
    "#Connecting to sqlite\n",
    "conn = sqlite3.connect('example.db')"
   ]
  },
  {
   "cell_type": "code",
   "execution_count": 61,
   "id": "d216e9c3-4dfb-486b-b7e9-04e93e73f518",
   "metadata": {},
   "outputs": [],
   "source": [
    "#Creating a cursor object using the cursor() method\n",
    "cursor = conn.cursor()"
   ]
  },
  {
   "cell_type": "code",
   "execution_count": 62,
   "id": "4a86739b-c6f5-4111-bdfa-0e3adb1f462e",
   "metadata": {},
   "outputs": [
    {
     "data": {
      "text/plain": [
       "<sqlite3.Cursor at 0x7fb45147c5e0>"
      ]
     },
     "execution_count": 62,
     "metadata": {},
     "output_type": "execute_result"
    }
   ],
   "source": [
    "# Create table with given columns\n",
    "cursor.execute('''CREATE TABLE USER_Info_\n",
    "               (ID integer primary key autoincrement, NAME text, ADDRESS text, CITY text, STATE text, ZIP text, [PHONE NUMBER] Intezer)''')"
   ]
  },
  {
   "cell_type": "code",
   "execution_count": 63,
   "id": "b2c31e4a-450f-4201-b279-3db4fb38eb06",
   "metadata": {
    "tags": []
   },
   "outputs": [
    {
     "data": {
      "text/plain": [
       "<sqlite3.Cursor at 0x7fb45147c5e0>"
      ]
     },
     "execution_count": 63,
     "metadata": {},
     "output_type": "execute_result"
    }
   ],
   "source": [
    "# Preparing SQL queries to INSERT a record into the database.\n",
    "cursor.execute('''INSERT INTO USER_Info_(\n",
    "   NAME , ADDRESS , CITY , STATE , ZIP , [PHONE NUMBER]) VALUES \n",
    "   ('Katrina', 'Rhode Island', 'Woonsocket', 'RI', '02895', 4017897832)''')\n",
    "\n",
    "cursor.execute('''INSERT INTO USER_Info_(\n",
    "   NAME , ADDRESS , CITY , STATE , ZIP , [PHONE NUMBER]) VALUES \n",
    "   ('Angel', 'Texas', 'Texas City', 'TX', '77590', 4017897831)''')\n",
    "\n",
    "cursor.execute('''INSERT INTO USER_Info_(\n",
    "   NAME , ADDRESS , CITY , STATE , ZIP , [PHONE NUMBER]) VALUES \n",
    "   ('Kathy', 'Rhode Island', 'Woonsocket', 'RI', '02895', 4017897833)''')\n",
    "\n",
    "cursor.execute('''INSERT INTO USER_Info_(\n",
    "   NAME , ADDRESS , CITY , STATE , ZIP , [PHONE NUMBER]) VALUES \n",
    "   ('Maya', 'Massachussets', 'Seekonk', 'MA', '02771', 4017897834)''')\n",
    "\n",
    "cursor.execute('''INSERT INTO USER_Info_(\n",
    "   NAME , ADDRESS , CITY , STATE , ZIP , [PHONE NUMBER]) VALUES \n",
    "   ('Ryan', 'Rhode Island', 'Woonsocket', 'RI', '02895', 4017897835)''')\n",
    "\n",
    "cursor.execute('''INSERT INTO USER_Info_(\n",
    "   NAME , ADDRESS , CITY , STATE , ZIP , [PHONE NUMBER]) VALUES \n",
    "   ('Jason', 'Rhode Island', 'Barrignton', 'RI', '02951', 4017897836)''')\n",
    "\n",
    "cursor.execute('''INSERT INTO USER_Info_(\n",
    "   NAME , ADDRESS , CITY , STATE , ZIP , [PHONE NUMBER]) VALUES \n",
    "   ('Jimmy', 'Massachussets', 'Seekonk', 'MA', '02771', 4017897837)''')\n",
    "\n",
    "cursor.execute('''INSERT INTO USER_Info_(\n",
    "   NAME , ADDRESS , CITY , STATE , ZIP , [PHONE NUMBER]) VALUES \n",
    "   ('Eric', 'Rhode Island', 'Providence', 'RI', '02904', 4017897838)''')\n",
    "\n",
    "cursor.execute('''INSERT INTO USER_Info_(\n",
    "   NAME , ADDRESS , CITY , STATE , ZIP , [PHONE NUMBER]) VALUES \n",
    "   ('Oren', 'Texas', 'Texas City', 'TX', '77590', 4017897839)''')\n",
    "\n",
    "cursor.execute('''INSERT INTO USER_Info_(\n",
    "   NAME , ADDRESS , CITY , STATE , ZIP , [PHONE NUMBER]) VALUES \n",
    "   ('Chris', 'Rhode Island', 'Woonsocket', 'RI', '02895', 4017897840)''')"
   ]
  },
  {
   "cell_type": "code",
   "execution_count": 64,
   "id": "5dd49f70-e6e3-4159-84a3-85716c7ae38f",
   "metadata": {},
   "outputs": [
    {
     "name": "stdout",
     "output_type": "stream",
     "text": [
      "Records inserted........\n"
     ]
    }
   ],
   "source": [
    "# Commit your changes in the database\n",
    "conn.commit()\n",
    "print(\"Records inserted........\")"
   ]
  },
  {
   "cell_type": "code",
   "execution_count": 66,
   "id": "709882d6-3216-4fc4-a4f6-96b07df62cfd",
   "metadata": {
    "tags": []
   },
   "outputs": [
    {
     "name": "stdout",
     "output_type": "stream",
     "text": [
      "(1, 'Katrina', 'Rhode Island', 'Woonsocket', 'RI', '02895', 4017897832)\n",
      "(2, 'Angel', 'Texas', 'Texas City', 'TX', '77590', 4017897831)\n",
      "(3, 'Kathy', 'Rhode Island', 'Woonsocket', 'RI', '02895', 4017897833)\n",
      "(4, 'Maya', 'Massachussets', 'Seekonk', 'MA', '02771', 4017897834)\n",
      "(5, 'Ryan', 'Rhode Island', 'Woonsocket', 'RI', '02895', 4017897835)\n",
      "(6, 'Jason', 'Rhode Island', 'Barrignton', 'RI', '02951', 4017897836)\n",
      "(7, 'Jimmy', 'Massachussets', 'Seekonk', 'MA', '02771', 4017897837)\n",
      "(8, 'Eric', 'Rhode Island', 'Providence', 'RI', '02904', 4017897838)\n",
      "(9, 'Oren', 'Texas', 'Texas City', 'TX', '77590', 4017897839)\n",
      "(10, 'Chris', 'Rhode Island', 'Woonsocket', 'RI', '02895', 4017897840)\n"
     ]
    }
   ],
   "source": [
    "# Printing rows.\n",
    "for row in cursor.execute('SELECT * FROM USER_Info_'):\n",
    "        print(row)"
   ]
  },
  {
   "cell_type": "code",
   "execution_count": null,
   "id": "5a71fc3f-1b22-4634-a6b7-cf7c692f88f3",
   "metadata": {},
   "outputs": [],
   "source": []
  }
 ],
 "metadata": {
  "kernelspec": {
   "display_name": "Python 3 (ipykernel)",
   "language": "python",
   "name": "python3"
  },
  "language_info": {
   "codemirror_mode": {
    "name": "ipython",
    "version": 3
   },
   "file_extension": ".py",
   "mimetype": "text/x-python",
   "name": "python",
   "nbconvert_exporter": "python",
   "pygments_lexer": "ipython3",
   "version": "3.9.7"
  }
 },
 "nbformat": 4,
 "nbformat_minor": 5
}
