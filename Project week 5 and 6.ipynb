{
 "cells": [
  {
   "cell_type": "code",
   "execution_count": null,
   "id": "0d4dff11-d2fb-4d41-bbc3-9e9d5d57ff5a",
   "metadata": {},
   "outputs": [],
   "source": [
    "# Name Dipika Sharma\n",
    "# DSC 540 T302 Data Preparation\n",
    "# Week 5 and 6"
   ]
  },
  {
   "cell_type": "markdown",
   "id": "29b45705-58cb-49cd-8cb8-56af119a9f25",
   "metadata": {},
   "source": [
    "I am using the IRS site to get the average income of each county of California.\n",
    "https://www.irs.gov/statistics/soi-tax-stats-individual-income-tax-statistics-zip-code-data-soi\n"
   ]
  },
  {
   "cell_type": "code",
   "execution_count": 1,
   "id": "abf3e147-4b0f-4959-8161-a017869636ea",
   "metadata": {},
   "outputs": [],
   "source": [
    "# Declaring all the libraries I want to use now.\n",
    "\n",
    "import numpy as np\n",
    "import pandas as pd\n",
    "import matplotlib.pyplot as plt"
   ]
  },
  {
   "cell_type": "code",
   "execution_count": 2,
   "id": "4d585490-4a0e-4115-8796-ef8304061877",
   "metadata": {},
   "outputs": [],
   "source": [
    "# Reading the csv file.\n",
    "\n",
    "dataset=pd.read_csv(\"2019_CA_IRS.csv\")"
   ]
  },
  {
   "cell_type": "code",
   "execution_count": 3,
   "id": "be79276e-cbe3-4aed-8224-c85d574e4b3f",
   "metadata": {},
   "outputs": [
    {
     "data": {
      "text/html": [
       "<div>\n",
       "<style scoped>\n",
       "    .dataframe tbody tr th:only-of-type {\n",
       "        vertical-align: middle;\n",
       "    }\n",
       "\n",
       "    .dataframe tbody tr th {\n",
       "        vertical-align: top;\n",
       "    }\n",
       "\n",
       "    .dataframe thead th {\n",
       "        text-align: right;\n",
       "    }\n",
       "</style>\n",
       "<table border=\"1\" class=\"dataframe\">\n",
       "  <thead>\n",
       "    <tr style=\"text-align: right;\">\n",
       "      <th></th>\n",
       "      <th>STATEFIPS</th>\n",
       "      <th>STATE</th>\n",
       "      <th>ZIPCODE</th>\n",
       "      <th>AGI_STUB</th>\n",
       "      <th>N1</th>\n",
       "      <th>MARS1</th>\n",
       "      <th>MARS2</th>\n",
       "      <th>MARS4</th>\n",
       "      <th>ELF</th>\n",
       "      <th>CPREP</th>\n",
       "      <th>...</th>\n",
       "      <th>N85300</th>\n",
       "      <th>A85300</th>\n",
       "      <th>N11901</th>\n",
       "      <th>A11901</th>\n",
       "      <th>N11900</th>\n",
       "      <th>A11900</th>\n",
       "      <th>N11902</th>\n",
       "      <th>A11902</th>\n",
       "      <th>N12000</th>\n",
       "      <th>A12000</th>\n",
       "    </tr>\n",
       "  </thead>\n",
       "  <tbody>\n",
       "    <tr>\n",
       "      <th>0</th>\n",
       "      <td>1</td>\n",
       "      <td>AL</td>\n",
       "      <td>0</td>\n",
       "      <td>0</td>\n",
       "      <td>2100740.0</td>\n",
       "      <td>914850.0</td>\n",
       "      <td>743250.0</td>\n",
       "      <td>395440.0</td>\n",
       "      <td>1925700.0</td>\n",
       "      <td>75480.0</td>\n",
       "      <td>...</td>\n",
       "      <td>39520.0</td>\n",
       "      <td>141384.0</td>\n",
       "      <td>418210.0</td>\n",
       "      <td>1875183.0</td>\n",
       "      <td>1633620.0</td>\n",
       "      <td>5232476.0</td>\n",
       "      <td>1603620.0</td>\n",
       "      <td>4711318.0</td>\n",
       "      <td>32340.0</td>\n",
       "      <td>463956.0</td>\n",
       "    </tr>\n",
       "    <tr>\n",
       "      <th>1</th>\n",
       "      <td>1</td>\n",
       "      <td>AL</td>\n",
       "      <td>35004</td>\n",
       "      <td>0</td>\n",
       "      <td>5330.0</td>\n",
       "      <td>2310.0</td>\n",
       "      <td>2060.0</td>\n",
       "      <td>840.0</td>\n",
       "      <td>4910.0</td>\n",
       "      <td>200.0</td>\n",
       "      <td>...</td>\n",
       "      <td>20.0</td>\n",
       "      <td>30.0</td>\n",
       "      <td>1120.0</td>\n",
       "      <td>2718.0</td>\n",
       "      <td>4120.0</td>\n",
       "      <td>11050.0</td>\n",
       "      <td>4060.0</td>\n",
       "      <td>10414.0</td>\n",
       "      <td>70.0</td>\n",
       "      <td>320.0</td>\n",
       "    </tr>\n",
       "    <tr>\n",
       "      <th>2</th>\n",
       "      <td>1</td>\n",
       "      <td>AL</td>\n",
       "      <td>35005</td>\n",
       "      <td>0</td>\n",
       "      <td>3280.0</td>\n",
       "      <td>1520.0</td>\n",
       "      <td>800.0</td>\n",
       "      <td>900.0</td>\n",
       "      <td>2980.0</td>\n",
       "      <td>120.0</td>\n",
       "      <td>...</td>\n",
       "      <td>0.0</td>\n",
       "      <td>0.0</td>\n",
       "      <td>490.0</td>\n",
       "      <td>1002.0</td>\n",
       "      <td>2730.0</td>\n",
       "      <td>8047.0</td>\n",
       "      <td>2720.0</td>\n",
       "      <td>7959.0</td>\n",
       "      <td>0.0</td>\n",
       "      <td>0.0</td>\n",
       "    </tr>\n",
       "    <tr>\n",
       "      <th>3</th>\n",
       "      <td>1</td>\n",
       "      <td>AL</td>\n",
       "      <td>35006</td>\n",
       "      <td>0</td>\n",
       "      <td>1230.0</td>\n",
       "      <td>490.0</td>\n",
       "      <td>570.0</td>\n",
       "      <td>160.0</td>\n",
       "      <td>1150.0</td>\n",
       "      <td>30.0</td>\n",
       "      <td>...</td>\n",
       "      <td>0.0</td>\n",
       "      <td>0.0</td>\n",
       "      <td>200.0</td>\n",
       "      <td>558.0</td>\n",
       "      <td>1010.0</td>\n",
       "      <td>2808.0</td>\n",
       "      <td>1010.0</td>\n",
       "      <td>2778.0</td>\n",
       "      <td>0.0</td>\n",
       "      <td>0.0</td>\n",
       "    </tr>\n",
       "    <tr>\n",
       "      <th>4</th>\n",
       "      <td>1</td>\n",
       "      <td>AL</td>\n",
       "      <td>35007</td>\n",
       "      <td>0</td>\n",
       "      <td>12380.0</td>\n",
       "      <td>5160.0</td>\n",
       "      <td>5080.0</td>\n",
       "      <td>1790.0</td>\n",
       "      <td>11090.0</td>\n",
       "      <td>640.0</td>\n",
       "      <td>...</td>\n",
       "      <td>130.0</td>\n",
       "      <td>160.0</td>\n",
       "      <td>2940.0</td>\n",
       "      <td>9715.0</td>\n",
       "      <td>9180.0</td>\n",
       "      <td>24964.0</td>\n",
       "      <td>9080.0</td>\n",
       "      <td>24284.0</td>\n",
       "      <td>120.0</td>\n",
       "      <td>642.0</td>\n",
       "    </tr>\n",
       "  </tbody>\n",
       "</table>\n",
       "<p>5 rows × 152 columns</p>\n",
       "</div>"
      ],
      "text/plain": [
       "   STATEFIPS STATE  ZIPCODE  AGI_STUB         N1     MARS1     MARS2  \\\n",
       "0          1    AL        0         0  2100740.0  914850.0  743250.0   \n",
       "1          1    AL    35004         0     5330.0    2310.0    2060.0   \n",
       "2          1    AL    35005         0     3280.0    1520.0     800.0   \n",
       "3          1    AL    35006         0     1230.0     490.0     570.0   \n",
       "4          1    AL    35007         0    12380.0    5160.0    5080.0   \n",
       "\n",
       "      MARS4        ELF    CPREP  ...   N85300    A85300    N11901     A11901  \\\n",
       "0  395440.0  1925700.0  75480.0  ...  39520.0  141384.0  418210.0  1875183.0   \n",
       "1     840.0     4910.0    200.0  ...     20.0      30.0    1120.0     2718.0   \n",
       "2     900.0     2980.0    120.0  ...      0.0       0.0     490.0     1002.0   \n",
       "3     160.0     1150.0     30.0  ...      0.0       0.0     200.0      558.0   \n",
       "4    1790.0    11090.0    640.0  ...    130.0     160.0    2940.0     9715.0   \n",
       "\n",
       "      N11900     A11900     N11902     A11902   N12000    A12000  \n",
       "0  1633620.0  5232476.0  1603620.0  4711318.0  32340.0  463956.0  \n",
       "1     4120.0    11050.0     4060.0    10414.0     70.0     320.0  \n",
       "2     2730.0     8047.0     2720.0     7959.0      0.0       0.0  \n",
       "3     1010.0     2808.0     1010.0     2778.0      0.0       0.0  \n",
       "4     9180.0    24964.0     9080.0    24284.0    120.0     642.0  \n",
       "\n",
       "[5 rows x 152 columns]"
      ]
     },
     "execution_count": 3,
     "metadata": {},
     "output_type": "execute_result"
    }
   ],
   "source": [
    "# Reading the first five rows of my dataset.\n",
    "\n",
    "dataset.head()"
   ]
  },
  {
   "cell_type": "code",
   "execution_count": 4,
   "id": "57dfecd7-66d9-4258-b21a-514750c0a2eb",
   "metadata": {},
   "outputs": [
    {
     "data": {
      "text/plain": [
       "Index(['STATEFIPS', 'STATE', 'ZIPCODE', 'AGI_STUB', 'N1', 'MARS1', 'MARS2',\n",
       "       'MARS4', 'ELF', 'CPREP',\n",
       "       ...\n",
       "       'N85300', 'A85300', 'N11901', 'A11901', 'N11900', 'A11900', 'N11902',\n",
       "       'A11902', 'N12000', 'A12000'],\n",
       "      dtype='object', length=152)"
      ]
     },
     "execution_count": 4,
     "metadata": {},
     "output_type": "execute_result"
    }
   ],
   "source": [
    "# Since we want to perform transformation on dataset ot is must that we know the columns of the dataset.\n",
    "\n",
    "dataset.columns"
   ]
  },
  {
   "cell_type": "code",
   "execution_count": 5,
   "id": "ee5d4bc7-6f6e-4519-9a3f-24d468386f6b",
   "metadata": {},
   "outputs": [],
   "source": [
    " # Most of the columns in selected dataset has name which do not make sense, so I am showing the defintion of some of the columns that i want to use in my database.\n",
    " \n",
    " # STATEFIPS - The State Federal Information Processing System (FIPS) code\n",
    " # STATE - The State associated with the ZIP code\n",
    " # ZIPCODE - 5-digit Zip code\n",
    " # AGI_STUB - Size of adjusted gross income\n",
    " # N1 - Number of returns [3]\n",
    " # A00100 - Adjust gross income (AGI) [8]\n",
    " # N02650 - Number of returns with total income\n",
    " # A02650 - Total income amount\n",
    " # N00200 - Number of returns with salaries and wages\n",
    " # A00200 - Salaries and wages amount\n",
    "\n"
   ]
  },
  {
   "cell_type": "markdown",
   "id": "3a60e385-f015-4873-bc60-668075c96452",
   "metadata": {},
   "source": [
    "# Step 1 - Creating the IRS dataframe from raw dataset with selected columns"
   ]
  },
  {
   "cell_type": "code",
   "execution_count": 6,
   "id": "187703a2-03dd-4afe-830d-01ebd7bde2e1",
   "metadata": {
    "tags": []
   },
   "outputs": [],
   "source": [
    "# I am using the IRS site data and it has so many columns that i do not want to use. So I am creating the new dataset with selected columns.\n",
    "# This new dataset will look more clean and it would be easy for me to read the data.\n",
    "\n",
    "IRS_df = dataset.filter(['STATEFIPS','STATE', 'ZIPCODE', 'AGI_STUB', 'N1', 'A00100', 'N02650', 'A02650', 'N00200', 'A00200'], axis=1)"
   ]
  },
  {
   "cell_type": "markdown",
   "id": "726de396-b3cf-45e8-92bb-9169d9e7ee7f",
   "metadata": {
    "tags": []
   },
   "source": [
    "# Step 2 - Creating dataframe for california State"
   ]
  },
  {
   "cell_type": "code",
   "execution_count": 9,
   "id": "e9ec11cb-7eb2-46cb-8af3-24cfea07eae0",
   "metadata": {
    "tags": []
   },
   "outputs": [],
   "source": [
    "# Since In my project I only want to analyse California data, So i will create dataframe for california dataset.\n",
    "\n",
    "IRS_CA_df = IRS_df[(IRS_df['STATE']=='CA')]"
   ]
  },
  {
   "cell_type": "code",
   "execution_count": 10,
   "id": "d33cfff9-10ca-4b93-b8a1-046a1d339231",
   "metadata": {},
   "outputs": [
    {
     "data": {
      "text/html": [
       "<div>\n",
       "<style scoped>\n",
       "    .dataframe tbody tr th:only-of-type {\n",
       "        vertical-align: middle;\n",
       "    }\n",
       "\n",
       "    .dataframe tbody tr th {\n",
       "        vertical-align: top;\n",
       "    }\n",
       "\n",
       "    .dataframe thead th {\n",
       "        text-align: right;\n",
       "    }\n",
       "</style>\n",
       "<table border=\"1\" class=\"dataframe\">\n",
       "  <thead>\n",
       "    <tr style=\"text-align: right;\">\n",
       "      <th></th>\n",
       "      <th>STATEFIPS</th>\n",
       "      <th>STATE</th>\n",
       "      <th>ZIPCODE</th>\n",
       "      <th>AGI_STUB</th>\n",
       "      <th>N1</th>\n",
       "      <th>A00100</th>\n",
       "      <th>N02650</th>\n",
       "      <th>A02650</th>\n",
       "      <th>N00200</th>\n",
       "      <th>A00200</th>\n",
       "    </tr>\n",
       "  </thead>\n",
       "  <tbody>\n",
       "    <tr>\n",
       "      <th>1412</th>\n",
       "      <td>6</td>\n",
       "      <td>CA</td>\n",
       "      <td>0</td>\n",
       "      <td>0</td>\n",
       "      <td>18333040.0</td>\n",
       "      <td>1.679462e+09</td>\n",
       "      <td>18332470.0</td>\n",
       "      <td>1.699793e+09</td>\n",
       "      <td>15192990.0</td>\n",
       "      <td>1.144518e+09</td>\n",
       "    </tr>\n",
       "    <tr>\n",
       "      <th>1413</th>\n",
       "      <td>6</td>\n",
       "      <td>CA</td>\n",
       "      <td>90001</td>\n",
       "      <td>0</td>\n",
       "      <td>23030.0</td>\n",
       "      <td>7.461130e+05</td>\n",
       "      <td>23020.0</td>\n",
       "      <td>7.516150e+05</td>\n",
       "      <td>19850.0</td>\n",
       "      <td>6.701150e+05</td>\n",
       "    </tr>\n",
       "    <tr>\n",
       "      <th>1414</th>\n",
       "      <td>6</td>\n",
       "      <td>CA</td>\n",
       "      <td>90002</td>\n",
       "      <td>0</td>\n",
       "      <td>21420.0</td>\n",
       "      <td>6.884690e+05</td>\n",
       "      <td>21420.0</td>\n",
       "      <td>6.940560e+05</td>\n",
       "      <td>18610.0</td>\n",
       "      <td>6.211790e+05</td>\n",
       "    </tr>\n",
       "    <tr>\n",
       "      <th>1415</th>\n",
       "      <td>6</td>\n",
       "      <td>CA</td>\n",
       "      <td>90003</td>\n",
       "      <td>0</td>\n",
       "      <td>29480.0</td>\n",
       "      <td>8.903980e+05</td>\n",
       "      <td>29480.0</td>\n",
       "      <td>8.981900e+05</td>\n",
       "      <td>25130.0</td>\n",
       "      <td>7.970110e+05</td>\n",
       "    </tr>\n",
       "    <tr>\n",
       "      <th>1416</th>\n",
       "      <td>6</td>\n",
       "      <td>CA</td>\n",
       "      <td>90004</td>\n",
       "      <td>0</td>\n",
       "      <td>28160.0</td>\n",
       "      <td>2.254004e+06</td>\n",
       "      <td>28160.0</td>\n",
       "      <td>2.290432e+06</td>\n",
       "      <td>22970.0</td>\n",
       "      <td>1.486573e+06</td>\n",
       "    </tr>\n",
       "  </tbody>\n",
       "</table>\n",
       "</div>"
      ],
      "text/plain": [
       "      STATEFIPS STATE  ZIPCODE  AGI_STUB          N1        A00100  \\\n",
       "1412          6    CA        0         0  18333040.0  1.679462e+09   \n",
       "1413          6    CA    90001         0     23030.0  7.461130e+05   \n",
       "1414          6    CA    90002         0     21420.0  6.884690e+05   \n",
       "1415          6    CA    90003         0     29480.0  8.903980e+05   \n",
       "1416          6    CA    90004         0     28160.0  2.254004e+06   \n",
       "\n",
       "          N02650        A02650      N00200        A00200  \n",
       "1412  18332470.0  1.699793e+09  15192990.0  1.144518e+09  \n",
       "1413     23020.0  7.516150e+05     19850.0  6.701150e+05  \n",
       "1414     21420.0  6.940560e+05     18610.0  6.211790e+05  \n",
       "1415     29480.0  8.981900e+05     25130.0  7.970110e+05  \n",
       "1416     28160.0  2.290432e+06     22970.0  1.486573e+06  "
      ]
     },
     "execution_count": 10,
     "metadata": {},
     "output_type": "execute_result"
    }
   ],
   "source": [
    "# Lets check the first five rows of dataset.\n",
    "\n",
    "IRS_CA_df.head()"
   ]
  },
  {
   "cell_type": "markdown",
   "id": "893d92e9-2062-4ab0-b352-8424bbc6163c",
   "metadata": {},
   "source": [
    "# Step 3 - Removing rows which showing \"Total\" of the numeric columns"
   ]
  },
  {
   "cell_type": "code",
   "execution_count": 12,
   "id": "da062465-ac8b-47c4-84b0-8cbcf26eb80a",
   "metadata": {
    "tags": []
   },
   "outputs": [],
   "source": [
    "# I have noticed that all the \"Total\" rows have zipcode as 0, so we can use this filter to remove \"Total\" of the numeric columns.\n",
    "\n",
    "IRS_CA_df = IRS_CA_df[(IRS_CA_df['ZIPCODE']>0)]"
   ]
  },
  {
   "cell_type": "code",
   "execution_count": 14,
   "id": "047526a7-b0e6-44b7-8af5-6ca8a75ce223",
   "metadata": {},
   "outputs": [
    {
     "data": {
      "text/html": [
       "<div>\n",
       "<style scoped>\n",
       "    .dataframe tbody tr th:only-of-type {\n",
       "        vertical-align: middle;\n",
       "    }\n",
       "\n",
       "    .dataframe tbody tr th {\n",
       "        vertical-align: top;\n",
       "    }\n",
       "\n",
       "    .dataframe thead th {\n",
       "        text-align: right;\n",
       "    }\n",
       "</style>\n",
       "<table border=\"1\" class=\"dataframe\">\n",
       "  <thead>\n",
       "    <tr style=\"text-align: right;\">\n",
       "      <th></th>\n",
       "      <th>STATEFIPS</th>\n",
       "      <th>STATE</th>\n",
       "      <th>ZIPCODE</th>\n",
       "      <th>AGI_STUB</th>\n",
       "      <th>N1</th>\n",
       "      <th>A00100</th>\n",
       "      <th>N02650</th>\n",
       "      <th>A02650</th>\n",
       "      <th>N00200</th>\n",
       "      <th>A00200</th>\n",
       "    </tr>\n",
       "  </thead>\n",
       "  <tbody>\n",
       "    <tr>\n",
       "      <th>1413</th>\n",
       "      <td>6</td>\n",
       "      <td>CA</td>\n",
       "      <td>90001</td>\n",
       "      <td>0</td>\n",
       "      <td>23030.0</td>\n",
       "      <td>746113.0</td>\n",
       "      <td>23020.0</td>\n",
       "      <td>7.516150e+05</td>\n",
       "      <td>19850.0</td>\n",
       "      <td>670115.0</td>\n",
       "    </tr>\n",
       "    <tr>\n",
       "      <th>1414</th>\n",
       "      <td>6</td>\n",
       "      <td>CA</td>\n",
       "      <td>90002</td>\n",
       "      <td>0</td>\n",
       "      <td>21420.0</td>\n",
       "      <td>688469.0</td>\n",
       "      <td>21420.0</td>\n",
       "      <td>6.940560e+05</td>\n",
       "      <td>18610.0</td>\n",
       "      <td>621179.0</td>\n",
       "    </tr>\n",
       "    <tr>\n",
       "      <th>1415</th>\n",
       "      <td>6</td>\n",
       "      <td>CA</td>\n",
       "      <td>90003</td>\n",
       "      <td>0</td>\n",
       "      <td>29480.0</td>\n",
       "      <td>890398.0</td>\n",
       "      <td>29480.0</td>\n",
       "      <td>8.981900e+05</td>\n",
       "      <td>25130.0</td>\n",
       "      <td>797011.0</td>\n",
       "    </tr>\n",
       "    <tr>\n",
       "      <th>1416</th>\n",
       "      <td>6</td>\n",
       "      <td>CA</td>\n",
       "      <td>90004</td>\n",
       "      <td>0</td>\n",
       "      <td>28160.0</td>\n",
       "      <td>2254004.0</td>\n",
       "      <td>28160.0</td>\n",
       "      <td>2.290432e+06</td>\n",
       "      <td>22970.0</td>\n",
       "      <td>1486573.0</td>\n",
       "    </tr>\n",
       "    <tr>\n",
       "      <th>1417</th>\n",
       "      <td>6</td>\n",
       "      <td>CA</td>\n",
       "      <td>90005</td>\n",
       "      <td>0</td>\n",
       "      <td>16870.0</td>\n",
       "      <td>984929.0</td>\n",
       "      <td>16870.0</td>\n",
       "      <td>9.986870e+05</td>\n",
       "      <td>14090.0</td>\n",
       "      <td>711721.0</td>\n",
       "    </tr>\n",
       "  </tbody>\n",
       "</table>\n",
       "</div>"
      ],
      "text/plain": [
       "      STATEFIPS STATE  ZIPCODE  AGI_STUB       N1     A00100   N02650  \\\n",
       "1413          6    CA    90001         0  23030.0   746113.0  23020.0   \n",
       "1414          6    CA    90002         0  21420.0   688469.0  21420.0   \n",
       "1415          6    CA    90003         0  29480.0   890398.0  29480.0   \n",
       "1416          6    CA    90004         0  28160.0  2254004.0  28160.0   \n",
       "1417          6    CA    90005         0  16870.0   984929.0  16870.0   \n",
       "\n",
       "            A02650   N00200     A00200  \n",
       "1413  7.516150e+05  19850.0   670115.0  \n",
       "1414  6.940560e+05  18610.0   621179.0  \n",
       "1415  8.981900e+05  25130.0   797011.0  \n",
       "1416  2.290432e+06  22970.0  1486573.0  \n",
       "1417  9.986870e+05  14090.0   711721.0  "
      ]
     },
     "execution_count": 14,
     "metadata": {},
     "output_type": "execute_result"
    }
   ],
   "source": [
    "# lets check the data now.\n",
    "\n",
    "IRS_CA_df.head()"
   ]
  },
  {
   "cell_type": "markdown",
   "id": "8d81a0ba-1cd7-40ac-b3ca-71f80227ba74",
   "metadata": {},
   "source": [
    "# Step 4 - Changing the headers to make more sense"
   ]
  },
  {
   "cell_type": "code",
   "execution_count": 19,
   "id": "bfd8bde5-82fe-4823-8f43-78f6df5fd8b1",
   "metadata": {},
   "outputs": [],
   "source": [
    "# Almost every column in this dataset has name which do not give the insight of the data.\n",
    "# Lets rename columns so that it will be easy for us to read the data.\n",
    "\n",
    "IRS_CA_df.rename(columns = {'N1':'No_of_Returns', 'A00100':'AGI', 'N02650':'Returns__Tot_Income', 'A02650':'Tot_Income', 'N00200':'Returns_Sal_Wages', 'A00200':'Sal_Wages_Amt'}, inplace = True)"
   ]
  },
  {
   "cell_type": "code",
   "execution_count": 49,
   "id": "3f4f82f0-389b-4986-af6c-f0ccc105d857",
   "metadata": {},
   "outputs": [
    {
     "data": {
      "text/html": [
       "<div>\n",
       "<style scoped>\n",
       "    .dataframe tbody tr th:only-of-type {\n",
       "        vertical-align: middle;\n",
       "    }\n",
       "\n",
       "    .dataframe tbody tr th {\n",
       "        vertical-align: top;\n",
       "    }\n",
       "\n",
       "    .dataframe thead th {\n",
       "        text-align: right;\n",
       "    }\n",
       "</style>\n",
       "<table border=\"1\" class=\"dataframe\">\n",
       "  <thead>\n",
       "    <tr style=\"text-align: right;\">\n",
       "      <th></th>\n",
       "      <th>STATEFIPS</th>\n",
       "      <th>STATE</th>\n",
       "      <th>ZIPCODE</th>\n",
       "      <th>AGI_STUB</th>\n",
       "      <th>No_of_Returns</th>\n",
       "      <th>AGI</th>\n",
       "      <th>Returns__Tot_Income</th>\n",
       "      <th>Tot_Income</th>\n",
       "      <th>Returns_Sal_Wages</th>\n",
       "      <th>Sal_Wages_Amt</th>\n",
       "    </tr>\n",
       "  </thead>\n",
       "  <tbody>\n",
       "    <tr>\n",
       "      <th>1413</th>\n",
       "      <td>6</td>\n",
       "      <td>CA</td>\n",
       "      <td>90001</td>\n",
       "      <td>3</td>\n",
       "      <td>23030.0</td>\n",
       "      <td>746113.0</td>\n",
       "      <td>23020.0</td>\n",
       "      <td>7.516150e+05</td>\n",
       "      <td>19850.0</td>\n",
       "      <td>670115.0</td>\n",
       "    </tr>\n",
       "    <tr>\n",
       "      <th>1414</th>\n",
       "      <td>6</td>\n",
       "      <td>CA</td>\n",
       "      <td>90002</td>\n",
       "      <td>3</td>\n",
       "      <td>21420.0</td>\n",
       "      <td>688469.0</td>\n",
       "      <td>21420.0</td>\n",
       "      <td>6.940560e+05</td>\n",
       "      <td>18610.0</td>\n",
       "      <td>621179.0</td>\n",
       "    </tr>\n",
       "    <tr>\n",
       "      <th>1415</th>\n",
       "      <td>6</td>\n",
       "      <td>CA</td>\n",
       "      <td>90003</td>\n",
       "      <td>4</td>\n",
       "      <td>29480.0</td>\n",
       "      <td>890398.0</td>\n",
       "      <td>29480.0</td>\n",
       "      <td>8.981900e+05</td>\n",
       "      <td>25130.0</td>\n",
       "      <td>797011.0</td>\n",
       "    </tr>\n",
       "    <tr>\n",
       "      <th>1416</th>\n",
       "      <td>6</td>\n",
       "      <td>CA</td>\n",
       "      <td>90004</td>\n",
       "      <td>6</td>\n",
       "      <td>28160.0</td>\n",
       "      <td>2254004.0</td>\n",
       "      <td>28160.0</td>\n",
       "      <td>2.290432e+06</td>\n",
       "      <td>22970.0</td>\n",
       "      <td>1486573.0</td>\n",
       "    </tr>\n",
       "    <tr>\n",
       "      <th>1417</th>\n",
       "      <td>6</td>\n",
       "      <td>CA</td>\n",
       "      <td>90005</td>\n",
       "      <td>4</td>\n",
       "      <td>16870.0</td>\n",
       "      <td>984929.0</td>\n",
       "      <td>16870.0</td>\n",
       "      <td>9.986870e+05</td>\n",
       "      <td>14090.0</td>\n",
       "      <td>711721.0</td>\n",
       "    </tr>\n",
       "  </tbody>\n",
       "</table>\n",
       "</div>"
      ],
      "text/plain": [
       "      STATEFIPS STATE  ZIPCODE  AGI_STUB  No_of_Returns        AGI  \\\n",
       "1413          6    CA    90001         3        23030.0   746113.0   \n",
       "1414          6    CA    90002         3        21420.0   688469.0   \n",
       "1415          6    CA    90003         4        29480.0   890398.0   \n",
       "1416          6    CA    90004         6        28160.0  2254004.0   \n",
       "1417          6    CA    90005         4        16870.0   984929.0   \n",
       "\n",
       "      Returns__Tot_Income    Tot_Income  Returns_Sal_Wages  Sal_Wages_Amt  \n",
       "1413              23020.0  7.516150e+05            19850.0       670115.0  \n",
       "1414              21420.0  6.940560e+05            18610.0       621179.0  \n",
       "1415              29480.0  8.981900e+05            25130.0       797011.0  \n",
       "1416              28160.0  2.290432e+06            22970.0      1486573.0  \n",
       "1417              16870.0  9.986870e+05            14090.0       711721.0  "
      ]
     },
     "execution_count": 49,
     "metadata": {},
     "output_type": "execute_result"
    }
   ],
   "source": [
    "# Showing the first five rows to see how the data looks after renaming the dataset.\n",
    "\n",
    "IRS_CA_df.head()"
   ]
  },
  {
   "cell_type": "code",
   "execution_count": 21,
   "id": "c3f25781-48bb-42cf-8a70-f1eafb526185",
   "metadata": {},
   "outputs": [
    {
     "data": {
      "text/plain": [
       "(1477, 10)"
      ]
     },
     "execution_count": 21,
     "metadata": {},
     "output_type": "execute_result"
    }
   ],
   "source": [
    "# Check the size of the existing dataset\n",
    "\n",
    "IRS_CA_df.shape"
   ]
  },
  {
   "cell_type": "code",
   "execution_count": 22,
   "id": "24a653cc-c79b-47fe-8d54-204db7316590",
   "metadata": {},
   "outputs": [
    {
     "data": {
      "text/html": [
       "<div>\n",
       "<style scoped>\n",
       "    .dataframe tbody tr th:only-of-type {\n",
       "        vertical-align: middle;\n",
       "    }\n",
       "\n",
       "    .dataframe tbody tr th {\n",
       "        vertical-align: top;\n",
       "    }\n",
       "\n",
       "    .dataframe thead th {\n",
       "        text-align: right;\n",
       "    }\n",
       "</style>\n",
       "<table border=\"1\" class=\"dataframe\">\n",
       "  <thead>\n",
       "    <tr style=\"text-align: right;\">\n",
       "      <th></th>\n",
       "      <th>STATEFIPS</th>\n",
       "      <th>ZIPCODE</th>\n",
       "      <th>AGI_STUB</th>\n",
       "      <th>No_of_Returns</th>\n",
       "      <th>AGI</th>\n",
       "      <th>Returns__Tot_Income</th>\n",
       "      <th>Tot_Income</th>\n",
       "      <th>Returns_Sal_Wages</th>\n",
       "      <th>Sal_Wages_Amt</th>\n",
       "    </tr>\n",
       "  </thead>\n",
       "  <tbody>\n",
       "    <tr>\n",
       "      <th>count</th>\n",
       "      <td>1477.0</td>\n",
       "      <td>1477.000000</td>\n",
       "      <td>1477.0</td>\n",
       "      <td>1477.000000</td>\n",
       "      <td>1.477000e+03</td>\n",
       "      <td>1477.000000</td>\n",
       "      <td>1.477000e+03</td>\n",
       "      <td>1477.00000</td>\n",
       "      <td>1.477000e+03</td>\n",
       "    </tr>\n",
       "    <tr>\n",
       "      <th>mean</th>\n",
       "      <td>6.0</td>\n",
       "      <td>93537.742722</td>\n",
       "      <td>0.0</td>\n",
       "      <td>12415.179418</td>\n",
       "      <td>1.137076e+06</td>\n",
       "      <td>12414.752877</td>\n",
       "      <td>1.150842e+06</td>\n",
       "      <td>10289.43128</td>\n",
       "      <td>7.748938e+05</td>\n",
       "    </tr>\n",
       "    <tr>\n",
       "      <th>std</th>\n",
       "      <td>0.0</td>\n",
       "      <td>1823.614382</td>\n",
       "      <td>0.0</td>\n",
       "      <td>13717.782993</td>\n",
       "      <td>1.466552e+06</td>\n",
       "      <td>13714.332153</td>\n",
       "      <td>1.485081e+06</td>\n",
       "      <td>11176.32261</td>\n",
       "      <td>8.952648e+05</td>\n",
       "    </tr>\n",
       "    <tr>\n",
       "      <th>min</th>\n",
       "      <td>6.0</td>\n",
       "      <td>90001.000000</td>\n",
       "      <td>0.0</td>\n",
       "      <td>100.000000</td>\n",
       "      <td>3.097000e+03</td>\n",
       "      <td>100.000000</td>\n",
       "      <td>3.136000e+03</td>\n",
       "      <td>60.00000</td>\n",
       "      <td>1.748000e+03</td>\n",
       "    </tr>\n",
       "    <tr>\n",
       "      <th>25%</th>\n",
       "      <td>6.0</td>\n",
       "      <td>92120.000000</td>\n",
       "      <td>0.0</td>\n",
       "      <td>2360.000000</td>\n",
       "      <td>1.687900e+05</td>\n",
       "      <td>2360.000000</td>\n",
       "      <td>1.714610e+05</td>\n",
       "      <td>1910.00000</td>\n",
       "      <td>1.070650e+05</td>\n",
       "    </tr>\n",
       "    <tr>\n",
       "      <th>50%</th>\n",
       "      <td>6.0</td>\n",
       "      <td>93611.000000</td>\n",
       "      <td>0.0</td>\n",
       "      <td>11200.000000</td>\n",
       "      <td>8.555690e+05</td>\n",
       "      <td>11200.000000</td>\n",
       "      <td>8.657120e+05</td>\n",
       "      <td>9100.00000</td>\n",
       "      <td>6.152890e+05</td>\n",
       "    </tr>\n",
       "    <tr>\n",
       "      <th>75%</th>\n",
       "      <td>6.0</td>\n",
       "      <td>95313.000000</td>\n",
       "      <td>0.0</td>\n",
       "      <td>18910.000000</td>\n",
       "      <td>1.583299e+06</td>\n",
       "      <td>18910.000000</td>\n",
       "      <td>1.606734e+06</td>\n",
       "      <td>15840.00000</td>\n",
       "      <td>1.117937e+06</td>\n",
       "    </tr>\n",
       "    <tr>\n",
       "      <th>max</th>\n",
       "      <td>6.0</td>\n",
       "      <td>99999.000000</td>\n",
       "      <td>0.0</td>\n",
       "      <td>363340.000000</td>\n",
       "      <td>3.390397e+07</td>\n",
       "      <td>363140.000000</td>\n",
       "      <td>3.437498e+07</td>\n",
       "      <td>276820.00000</td>\n",
       "      <td>1.778990e+07</td>\n",
       "    </tr>\n",
       "  </tbody>\n",
       "</table>\n",
       "</div>"
      ],
      "text/plain": [
       "       STATEFIPS       ZIPCODE  AGI_STUB  No_of_Returns           AGI  \\\n",
       "count     1477.0   1477.000000    1477.0    1477.000000  1.477000e+03   \n",
       "mean         6.0  93537.742722       0.0   12415.179418  1.137076e+06   \n",
       "std          0.0   1823.614382       0.0   13717.782993  1.466552e+06   \n",
       "min          6.0  90001.000000       0.0     100.000000  3.097000e+03   \n",
       "25%          6.0  92120.000000       0.0    2360.000000  1.687900e+05   \n",
       "50%          6.0  93611.000000       0.0   11200.000000  8.555690e+05   \n",
       "75%          6.0  95313.000000       0.0   18910.000000  1.583299e+06   \n",
       "max          6.0  99999.000000       0.0  363340.000000  3.390397e+07   \n",
       "\n",
       "       Returns__Tot_Income    Tot_Income  Returns_Sal_Wages  Sal_Wages_Amt  \n",
       "count          1477.000000  1.477000e+03         1477.00000   1.477000e+03  \n",
       "mean          12414.752877  1.150842e+06        10289.43128   7.748938e+05  \n",
       "std           13714.332153  1.485081e+06        11176.32261   8.952648e+05  \n",
       "min             100.000000  3.136000e+03           60.00000   1.748000e+03  \n",
       "25%            2360.000000  1.714610e+05         1910.00000   1.070650e+05  \n",
       "50%           11200.000000  8.657120e+05         9100.00000   6.152890e+05  \n",
       "75%           18910.000000  1.606734e+06        15840.00000   1.117937e+06  \n",
       "max          363140.000000  3.437498e+07       276820.00000   1.778990e+07  "
      ]
     },
     "execution_count": 22,
     "metadata": {},
     "output_type": "execute_result"
    }
   ],
   "source": [
    "# Using describe function to show the summary of statistics, this function will show the summary of numeric columns and excludes all the character columns\n",
    "\n",
    "IRS_CA_df.describe()"
   ]
  },
  {
   "cell_type": "markdown",
   "id": "de31aaa1-8889-4c10-9f29-d53858098ef1",
   "metadata": {},
   "source": [
    "# Step 5 - Looking for NULL values in dataframe"
   ]
  },
  {
   "cell_type": "code",
   "execution_count": 23,
   "id": "b2eb44ab-a06e-4bcd-8af1-c77bf8010790",
   "metadata": {},
   "outputs": [
    {
     "data": {
      "text/plain": [
       "STATEFIPS              0\n",
       "STATE                  0\n",
       "ZIPCODE                0\n",
       "AGI_STUB               0\n",
       "No_of_Returns          0\n",
       "AGI                    0\n",
       "Returns__Tot_Income    0\n",
       "Tot_Income             0\n",
       "Returns_Sal_Wages      0\n",
       "Sal_Wages_Amt          0\n",
       "dtype: int64"
      ]
     },
     "execution_count": 23,
     "metadata": {},
     "output_type": "execute_result"
    }
   ],
   "source": [
    "# checking the dataframe for null values, below function will count the number of NULL values for each column.\n",
    "IRS_CA_df.isnull().sum()"
   ]
  },
  {
   "cell_type": "markdown",
   "id": "15a9c95f-91e7-4fc5-95a0-26b62172988a",
   "metadata": {},
   "source": [
    "As we can see we do not have null values in our dataset."
   ]
  },
  {
   "cell_type": "markdown",
   "id": "1e2f93e6-2430-4823-9843-2a2b9e6e1ab6",
   "metadata": {},
   "source": [
    "# Step 6 - Removing the leading and ending whitespace"
   ]
  },
  {
   "cell_type": "code",
   "execution_count": 24,
   "id": "9b3c204b-48cc-448d-bc87-cf2bd1b53708",
   "metadata": {},
   "outputs": [],
   "source": [
    "# using strip fucntion to remove leading and ending whitespace.\n",
    "\n",
    "def strip_whitespace(s):\n",
    "    return s.strip()  # using strip fucntion to remove leading and ending whitespace."
   ]
  },
  {
   "cell_type": "code",
   "execution_count": 25,
   "id": "303073cc-b69c-4e6a-bc6e-efbb1274a163",
   "metadata": {
    "tags": []
   },
   "outputs": [],
   "source": [
    "# Lets strip the whitespace if any in State column of the dataset\n",
    "\n",
    "IRS_CA_df['STATE_stripped']=IRS_CA_df['STATE'].apply(strip_whitespace)\n",
    "IRS_CA_df['STATE']=IRS_CA_df['STATE_stripped']\n",
    "IRS_CA_df.drop(labels=['STATE_stripped'],axis=1,inplace=True)"
   ]
  },
  {
   "cell_type": "markdown",
   "id": "f1aed5dc-f98b-42ce-be67-bd01752b5a87",
   "metadata": {},
   "source": [
    "# Step 7 - Do calculation for AGI_STUB column"
   ]
  },
  {
   "cell_type": "code",
   "execution_count": 50,
   "id": "d94d0308-a964-4461-a409-055e09fb2e38",
   "metadata": {
    "tags": []
   },
   "outputs": [],
   "source": [
    "# I want to use AGI_STUB(size of adjusted gross income) column for future analysis so assigning the value to it. \n",
    "# Using the below conditions.\n",
    "\n",
    "# 1 = $1 under $250000\n",
    "# 2 = $250000 under $500000\n",
    "# 3 = $500000 under $750000\n",
    "# 4 = $750000 under $1000000\n",
    "# 5 = $1000000 under $2000000\n",
    "# 6 = $2000000 or more\n",
    "\n"
   ]
  },
  {
   "cell_type": "code",
   "execution_count": 28,
   "id": "a1dfe126-182c-4cf3-a88b-68d28a5fa5e0",
   "metadata": {
    "tags": []
   },
   "outputs": [
    {
     "data": {
      "text/html": [
       "<div>\n",
       "<style scoped>\n",
       "    .dataframe tbody tr th:only-of-type {\n",
       "        vertical-align: middle;\n",
       "    }\n",
       "\n",
       "    .dataframe tbody tr th {\n",
       "        vertical-align: top;\n",
       "    }\n",
       "\n",
       "    .dataframe thead th {\n",
       "        text-align: right;\n",
       "    }\n",
       "</style>\n",
       "<table border=\"1\" class=\"dataframe\">\n",
       "  <thead>\n",
       "    <tr style=\"text-align: right;\">\n",
       "      <th></th>\n",
       "      <th>STATEFIPS</th>\n",
       "      <th>STATE</th>\n",
       "      <th>ZIPCODE</th>\n",
       "      <th>AGI_STUB</th>\n",
       "      <th>No_of_Returns</th>\n",
       "      <th>AGI</th>\n",
       "      <th>Returns__Tot_Income</th>\n",
       "      <th>Tot_Income</th>\n",
       "      <th>Returns_Sal_Wages</th>\n",
       "      <th>Sal_Wages_Amt</th>\n",
       "    </tr>\n",
       "  </thead>\n",
       "  <tbody>\n",
       "    <tr>\n",
       "      <th>1413</th>\n",
       "      <td>6</td>\n",
       "      <td>CA</td>\n",
       "      <td>90001</td>\n",
       "      <td>3</td>\n",
       "      <td>23030.0</td>\n",
       "      <td>746113.0</td>\n",
       "      <td>23020.0</td>\n",
       "      <td>7.516150e+05</td>\n",
       "      <td>19850.0</td>\n",
       "      <td>670115.0</td>\n",
       "    </tr>\n",
       "    <tr>\n",
       "      <th>1414</th>\n",
       "      <td>6</td>\n",
       "      <td>CA</td>\n",
       "      <td>90002</td>\n",
       "      <td>3</td>\n",
       "      <td>21420.0</td>\n",
       "      <td>688469.0</td>\n",
       "      <td>21420.0</td>\n",
       "      <td>6.940560e+05</td>\n",
       "      <td>18610.0</td>\n",
       "      <td>621179.0</td>\n",
       "    </tr>\n",
       "    <tr>\n",
       "      <th>1415</th>\n",
       "      <td>6</td>\n",
       "      <td>CA</td>\n",
       "      <td>90003</td>\n",
       "      <td>4</td>\n",
       "      <td>29480.0</td>\n",
       "      <td>890398.0</td>\n",
       "      <td>29480.0</td>\n",
       "      <td>8.981900e+05</td>\n",
       "      <td>25130.0</td>\n",
       "      <td>797011.0</td>\n",
       "    </tr>\n",
       "    <tr>\n",
       "      <th>1416</th>\n",
       "      <td>6</td>\n",
       "      <td>CA</td>\n",
       "      <td>90004</td>\n",
       "      <td>6</td>\n",
       "      <td>28160.0</td>\n",
       "      <td>2254004.0</td>\n",
       "      <td>28160.0</td>\n",
       "      <td>2.290432e+06</td>\n",
       "      <td>22970.0</td>\n",
       "      <td>1486573.0</td>\n",
       "    </tr>\n",
       "    <tr>\n",
       "      <th>1417</th>\n",
       "      <td>6</td>\n",
       "      <td>CA</td>\n",
       "      <td>90005</td>\n",
       "      <td>4</td>\n",
       "      <td>16870.0</td>\n",
       "      <td>984929.0</td>\n",
       "      <td>16870.0</td>\n",
       "      <td>9.986870e+05</td>\n",
       "      <td>14090.0</td>\n",
       "      <td>711721.0</td>\n",
       "    </tr>\n",
       "  </tbody>\n",
       "</table>\n",
       "</div>"
      ],
      "text/plain": [
       "      STATEFIPS STATE  ZIPCODE  AGI_STUB  No_of_Returns        AGI  \\\n",
       "1413          6    CA    90001         3        23030.0   746113.0   \n",
       "1414          6    CA    90002         3        21420.0   688469.0   \n",
       "1415          6    CA    90003         4        29480.0   890398.0   \n",
       "1416          6    CA    90004         6        28160.0  2254004.0   \n",
       "1417          6    CA    90005         4        16870.0   984929.0   \n",
       "\n",
       "      Returns__Tot_Income    Tot_Income  Returns_Sal_Wages  Sal_Wages_Amt  \n",
       "1413              23020.0  7.516150e+05            19850.0       670115.0  \n",
       "1414              21420.0  6.940560e+05            18610.0       621179.0  \n",
       "1415              29480.0  8.981900e+05            25130.0       797011.0  \n",
       "1416              28160.0  2.290432e+06            22970.0      1486573.0  \n",
       "1417              16870.0  9.986870e+05            14090.0       711721.0  "
      ]
     },
     "execution_count": 28,
     "metadata": {},
     "output_type": "execute_result"
    }
   ],
   "source": [
    "# create a list of our conditions\n",
    "conditions = [\n",
    "    (IRS_CA_df['AGI'] < 250000),\n",
    "    (IRS_CA_df['AGI'] >= 250000) & (IRS_CA_df['AGI'] < 500000),\n",
    "    (IRS_CA_df['AGI'] >= 500000) & (IRS_CA_df['AGI'] < 750000),\n",
    "    (IRS_CA_df['AGI'] >= 750000) & (IRS_CA_df['AGI'] < 1000000),\n",
    "    (IRS_CA_df['AGI'] >= 1000000) & (IRS_CA_df['AGI'] < 2000000),\n",
    "    (IRS_CA_df['AGI'] >= 2000000)\n",
    "    ]\n",
    "\n",
    "# create a list of the values we want to assign for each condition\n",
    "values = [1, 2, 3, 4, 5, 6]\n",
    "\n",
    "# create a new column and use np.select to assign values to it using our lists as arguments\n",
    "IRS_CA_df['AGI_STUB'] = np.select(conditions, values)\n",
    "\n",
    "# display updated DataFrame\n",
    "IRS_CA_df.head()"
   ]
  },
  {
   "cell_type": "markdown",
   "id": "489d8825-3489-4039-8fc2-8d94bf3bc358",
   "metadata": {
    "tags": []
   },
   "source": [
    "# Step 8 - Check for duplicates"
   ]
  },
  {
   "cell_type": "code",
   "execution_count": 31,
   "id": "6c69c094-ccd2-4c3a-af8e-3f5233e79e01",
   "metadata": {
    "tags": []
   },
   "outputs": [
    {
     "name": "stdout",
     "output_type": "stream",
     "text": [
      "Is column ZIPCODE is duplicated? - False\n"
     ]
    }
   ],
   "source": [
    "# Lets make sure we do not have any duplicates for columns Zipcode in our dataset\n",
    "\n",
    "print(\"Is column ZIPCODE is duplicated? - {}\".format(any(IRS_CA_df.ZIPCODE.duplicated())))"
   ]
  },
  {
   "cell_type": "markdown",
   "id": "0b4d9a80-ebc2-47d9-bdfc-4a7a4ae1560e",
   "metadata": {},
   "source": [
    "As we can see there no duplicate value in Zipcode."
   ]
  },
  {
   "cell_type": "markdown",
   "id": "943e5476-6b8d-4461-bf08-2a54c2f59641",
   "metadata": {
    "tags": []
   },
   "source": [
    "# Step 9 - Check for NaN values"
   ]
  },
  {
   "cell_type": "code",
   "execution_count": 32,
   "id": "d0de4f3c-8297-4679-bbad-eefcbade8c2e",
   "metadata": {
    "tags": []
   },
   "outputs": [
    {
     "name": "stdout",
     "output_type": "stream",
     "text": [
      "Is the column ZIPCODE contains NaN values? - False \n",
      "Is the column Tot_Income contains NaN values? - False \n",
      "Is the column AGI contains NaN values? - False \n"
     ]
    }
   ],
   "source": [
    "# Lets check few columns of the dataset for NaN Values\n",
    "\n",
    "print(\"Is the column ZIPCODE contains NaN values? - %r \" % IRS_CA_df.ZIPCODE.isnull().values.any())\n",
    "print(\"Is the column Tot_Income contains NaN values? - %r \" % IRS_CA_df.Tot_Income.isnull().values.any())\n",
    "print(\"Is the column AGI contains NaN values? - %r \" % IRS_CA_df.AGI.isnull().values.any())\n"
   ]
  },
  {
   "cell_type": "markdown",
   "id": "e41f5f69-2dbc-48bc-ba49-8f324d99686f",
   "metadata": {},
   "source": [
    "As we can see we do not have any NaN values in columns zipcode, AGI and Tot_Income in our dataset"
   ]
  },
  {
   "cell_type": "markdown",
   "id": "d584ab2c-bee3-48c3-b362-d02a07bbd464",
   "metadata": {},
   "source": [
    "# Step 10 - Get rid of Outliers"
   ]
  },
  {
   "cell_type": "code",
   "execution_count": 51,
   "id": "9cd5c451-f304-43ed-8ee4-ffce7b13781e",
   "metadata": {},
   "outputs": [
    {
     "name": "stdout",
     "output_type": "stream",
     "text": [
      "Size of the IRS dataset before removing the values which are infinity or not a number from column Tot_Income is 1477 rows and the size of the dataset after making the changes is 1477 rows.\n"
     ]
    }
   ],
   "source": [
    "# Let see if we have any variable which is infinity or Not a Number in Tot_Income column. If yes then get rid of it.\n",
    "\n",
    "old_df_size = IRS_CA_df.shape\n",
    "IRS_CA_df = IRS_CA_df[np.isfinite(IRS_CA_df['Tot_Income'])] \n",
    "new_df_size = IRS_CA_df.shape\n",
    "\n",
    "print(\"Size of the IRS dataset before removing the values which are infinity or not a number from column Tot_Income is {old[0]} rows and the size of the dataset after making the changes is {new[0]} rows.\".\n",
    "      format(old=old_df_size, new=new_df_size))"
   ]
  },
  {
   "cell_type": "markdown",
   "id": "8ed0df70-2d32-4ca1-8f7f-18e12e44cffc",
   "metadata": {
    "tags": []
   },
   "source": [
    "As we can see there is no changes in dataset size so there is all numeric values in Tot_Income column of our dataset."
   ]
  },
  {
   "cell_type": "markdown",
   "id": "ec3f711b-a1e5-48ae-9d5f-91c2816172d4",
   "metadata": {},
   "source": [
    "# Step 11 -  Box plot to check for outliers"
   ]
  },
  {
   "cell_type": "code",
   "execution_count": 39,
   "id": "58b351df-6d67-4ace-963e-d3d5d0683eb9",
   "metadata": {},
   "outputs": [
    {
     "data": {
      "text/plain": [
       "{'whiskers': [<matplotlib.lines.Line2D at 0x7fa0f1dd8a30>,\n",
       "  <matplotlib.lines.Line2D at 0x7fa0f1dd8dc0>],\n",
       " 'caps': [<matplotlib.lines.Line2D at 0x7fa0f1de7190>,\n",
       "  <matplotlib.lines.Line2D at 0x7fa0f1de7520>],\n",
       " 'boxes': [<matplotlib.lines.Line2D at 0x7fa0f1dd86a0>],\n",
       " 'medians': [<matplotlib.lines.Line2D at 0x7fa0f1de78b0>],\n",
       " 'fliers': [<matplotlib.lines.Line2D at 0x7fa0f1de7c40>],\n",
       " 'means': []}"
      ]
     },
     "execution_count": 39,
     "metadata": {},
     "output_type": "execute_result"
    },
    {
     "data": {
      "image/png": "[encoded data removed]",
      "text/plain": [
       "<Figure size 432x288 with 1 Axes>"
      ]
     },
     "metadata": {
      "needs_background": "light"
     },
     "output_type": "display_data"
    }
   ],
   "source": [
    "plt.boxplot(IRS_CA_df.Tot_Income, notch=True)"
   ]
  },
  {
   "cell_type": "markdown",
   "id": "fa9f7b9b-4653-4c53-9d09-903c06fa5943",
   "metadata": {},
   "source": [
    "Looking at the above plot we can see for sure that there are some values in our dataset that is way beyond from other values of Tot_Income column. Lets remove it from our dataset and see how the boxplot will be for new dataset."
   ]
  },
  {
   "cell_type": "code",
   "execution_count": 43,
   "id": "427b7e5e-f498-4722-804b-024d797a40ff",
   "metadata": {},
   "outputs": [],
   "source": [
    "# Creating new dataframe by removing the outliers from existing dataset.\n",
    "\n",
    "IRS_CA_df_new = IRS_CA_df[(IRS_CA_df['Tot_Income'] <= 1000000)]"
   ]
  },
  {
   "cell_type": "code",
   "execution_count": 44,
   "id": "e6cf9d41-09cf-4c24-9d31-b173ce2a3083",
   "metadata": {},
   "outputs": [
    {
     "name": "stdout",
     "output_type": "stream",
     "text": [
      "The size of the dataset after removing outliers - 814\n"
     ]
    }
   ],
   "source": [
    "# Lets see what the current size of the dataset after removing ouliers from data.\n",
    "\n",
    "print(\"The size of the dataset after removing outliers - {}\".format(*IRS_CA_df_new.shape))"
   ]
  },
  {
   "cell_type": "code",
   "execution_count": 45,
   "id": "251017eb-5a16-4604-9a80-948200d77b80",
   "metadata": {},
   "outputs": [
    {
     "data": {
      "text/plain": [
       "{'whiskers': [<matplotlib.lines.Line2D at 0x7fa0f1f1d400>,\n",
       "  <matplotlib.lines.Line2D at 0x7fa0f1f1d790>],\n",
       " 'caps': [<matplotlib.lines.Line2D at 0x7fa0f1f1db20>,\n",
       "  <matplotlib.lines.Line2D at 0x7fa0f1f1deb0>],\n",
       " 'boxes': [<matplotlib.lines.Line2D at 0x7fa0f1f1d070>],\n",
       " 'medians': [<matplotlib.lines.Line2D at 0x7fa0f1f28280>],\n",
       " 'fliers': [<matplotlib.lines.Line2D at 0x7fa0f1f28610>],\n",
       " 'means': []}"
      ]
     },
     "execution_count": 45,
     "metadata": {},
     "output_type": "execute_result"
    },
    {
     "data": {
      "image/png": "[encoded data removed]",
      "text/plain": [
       "<Figure size 432x288 with 1 Axes>"
      ]
     },
     "metadata": {
      "needs_background": "light"
     },
     "output_type": "display_data"
    }
   ],
   "source": [
    "plt.boxplot(IRS_CA_df_new.Tot_Income, notch=True)"
   ]
  },
  {
   "cell_type": "markdown",
   "id": "743387a3-0af6-4ad0-a178-25da6c89c9be",
   "metadata": {},
   "source": [
    "The above bosxplot looks more clean\n",
    "But we need to understand that this is IRS dataset and we are working on total income range and that is possible if some one has way more income compare to someone who is earning less."
   ]
  },
  {
   "cell_type": "code",
   "execution_count": 46,
   "id": "cf71f92f-2862-4267-b434-eddae2d0f6ea",
   "metadata": {},
   "outputs": [
    {
     "data": {
      "text/plain": [
       "34374979.0"
      ]
     },
     "execution_count": 46,
     "metadata": {},
     "output_type": "execute_result"
    }
   ],
   "source": [
    "# Lets check what is the max income we have in our dataset\n",
    "\n",
    "IRS_CA_df.Tot_Income.max()"
   ]
  },
  {
   "cell_type": "code",
   "execution_count": 48,
   "id": "6255b703-1b74-4e97-8a5d-4ceef363d69f",
   "metadata": {},
   "outputs": [
    {
     "data": {
      "text/plain": [
       "3136.0001"
      ]
     },
     "execution_count": 48,
     "metadata": {},
     "output_type": "execute_result"
    }
   ],
   "source": [
    "# Now check lower income in our dataset.\n",
    "\n",
    "IRS_CA_df.Tot_Income.min()"
   ]
  },
  {
   "cell_type": "markdown",
   "id": "e7205de9-15e8-453d-a22a-2d884d98a06a",
   "metadata": {},
   "source": [
    "As we can see the income range in our dataset is from 3136 \\$ to 34,374,979 \\$. There is huge gap in between these two values.\n",
    "It would be not good to remove these values and even though it looks like the outliers still we cannot remove it from our dataset.\n",
    "I want to analyse this IRS data with covid vaccine data to understand hows the vaccination for lower income zipcode in California and Hows the vaccinaton for higher income zipcode.\n",
    "So it would be good to leave the income column as it is without any changes and I will keep all the values."
   ]
  },
  {
   "cell_type": "code",
   "execution_count": null,
   "id": "68a39068-4579-42c3-acfd-32301064bd18",
   "metadata": {},
   "outputs": [],
   "source": []
  }
 ],
 "metadata": {
  "kernelspec": {
   "display_name": "Python 3 (ipykernel)",
   "language": "python",
   "name": "python3"
  },
  "language_info": {
   "codemirror_mode": {
    "name": "ipython",
    "version": 3
   },
   "file_extension": ".py",
   "mimetype": "text/x-python",
   "name": "python",
   "nbconvert_exporter": "python",
   "pygments_lexer": "ipython3",
   "version": "3.9.7"
  }
 },
 "nbformat": 4,
 "nbformat_minor": 5
}
